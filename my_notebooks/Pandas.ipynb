{
 "cells": [
  {
   "cell_type": "code",
   "execution_count": 9,
   "metadata": {
    "collapsed": false
   },
   "outputs": [
    {
     "name": "stdout",
     "output_type": "stream",
     "text": [
      "Populating the interactive namespace from numpy and matplotlib\n"
     ]
    }
   ],
   "source": [
    "%pylab inline\n",
    "from pandas import Series, DataFrame\n",
    "import pandas as pd"
   ]
  },
  {
   "cell_type": "markdown",
   "metadata": {},
   "source": [
    "# 1. The Series Class"
   ]
  },
  {
   "cell_type": "markdown",
   "metadata": {},
   "source": [
    "**A Series** object represents a one-dimensional, indexed series of data. It can be thought of as a dictionary, with one main difference: the indexes in a Series class are ordered"
   ]
  },
  {
   "cell_type": "code",
   "execution_count": 8,
   "metadata": {
    "collapsed": false
   },
   "outputs": [
    {
     "data": {
      "text/plain": [
       "Alex       76.0\n",
       "Robert     82.0\n",
       "Minnie     78.0\n",
       "Alice     100.0\n",
       "Name: Assignment 1, dtype: float64"
      ]
     },
     "execution_count": 8,
     "metadata": {},
     "output_type": "execute_result"
    }
   ],
   "source": [
    "grades1 = Series([76, 82, 78, 100],\n",
    "                index = ['Alex', 'Robert', 'Minnie', 'Alice'],\n",
    "                name = 'Assignment 1', dtype=float64)\n",
    "grades1"
   ]
  },
  {
   "cell_type": "code",
   "execution_count": 11,
   "metadata": {
    "collapsed": false
   },
   "outputs": [
    {
     "name": "stdout",
     "output_type": "stream",
     "text": [
      "78.0\n"
     ]
    },
    {
     "data": {
      "text/plain": [
       "Alex       76.0\n",
       "Robert     82.0\n",
       "Minnie     80.0\n",
       "Alice     100.0\n",
       "Theo       92.0\n",
       "Name: Assignment 1, dtype: float64"
      ]
     },
     "execution_count": 11,
     "metadata": {},
     "output_type": "execute_result"
    }
   ],
   "source": [
    "print grades1['Minnie']\n",
    "grades1['Minnie'] = 80\n",
    "grades1['Theo'] = 92\n",
    "grades1"
   ]
  },
  {
   "cell_type": "code",
   "execution_count": 12,
   "metadata": {
    "collapsed": false
   },
   "outputs": [
    {
     "name": "stdout",
     "output_type": "stream",
     "text": [
      "Alex got 76.0 points in Assignment 1\n",
      "Robert got 82.0 points in Assignment 1\n",
      "Minnie got 80.0 points in Assignment 1\n",
      "Alice got 100.0 points in Assignment 1\n",
      "Theo got 92.0 points in Assignment 1\n"
     ]
    }
   ],
   "source": [
    "for student in grades1.keys():\n",
    "    print '{} got {} points in {}'.format(student, grades1[student], grades1.name)"
   ]
  },
  {
   "cell_type": "code",
   "execution_count": 13,
   "metadata": {
    "collapsed": false
   },
   "outputs": [
    {
     "data": {
      "text/plain": [
       "80.0"
      ]
     },
     "execution_count": 13,
     "metadata": {},
     "output_type": "execute_result"
    }
   ],
   "source": [
    "grades1[2]"
   ]
  },
  {
   "cell_type": "code",
   "execution_count": 14,
   "metadata": {
    "collapsed": false
   },
   "outputs": [
    {
     "data": {
      "text/plain": [
       "Robert     82.0\n",
       "Minnie     80.0\n",
       "Alice     100.0\n",
       "Name: Assignment 1, dtype: float64"
      ]
     },
     "execution_count": 14,
     "metadata": {},
     "output_type": "execute_result"
    }
   ],
   "source": [
    "grades1[1:-1]"
   ]
  },
  {
   "cell_type": "code",
   "execution_count": 15,
   "metadata": {
    "collapsed": false
   },
   "outputs": [
    {
     "data": {
      "text/plain": [
       "Theo      92.0\n",
       "Alice    100.0\n",
       "Name: Assignment 1, dtype: float64"
      ]
     },
     "execution_count": 15,
     "metadata": {},
     "output_type": "execute_result"
    }
   ],
   "source": [
    "grades1[['Theo', 'Alice']]"
   ]
  },
  {
   "cell_type": "markdown",
   "metadata": {},
   "source": [
    "**append new data to the series**"
   ]
  },
  {
   "cell_type": "code",
   "execution_count": 16,
   "metadata": {
    "collapsed": false
   },
   "outputs": [
    {
     "data": {
      "text/plain": [
       "Alex       76.0\n",
       "Robert     82.0\n",
       "Minnie     80.0\n",
       "Alice     100.0\n",
       "Theo       92.0\n",
       "Theo       79.0\n",
       "Joe        81.0\n",
       "dtype: float64"
      ]
     },
     "execution_count": 16,
     "metadata": {},
     "output_type": "execute_result"
    }
   ],
   "source": [
    "grades1a = grades1.append(Series([79, 81], index=['Theo', 'Joe']))\n",
    "grades1a"
   ]
  },
  {
   "cell_type": "code",
   "execution_count": 17,
   "metadata": {
    "collapsed": false
   },
   "outputs": [
    {
     "data": {
      "text/plain": [
       "Theo    92.0\n",
       "Theo    79.0\n",
       "dtype: float64"
      ]
     },
     "execution_count": 17,
     "metadata": {},
     "output_type": "execute_result"
    }
   ],
   "source": [
    "grades1a['Theo']"
   ]
  },
  {
   "cell_type": "code",
   "execution_count": 18,
   "metadata": {
    "collapsed": false
   },
   "outputs": [
    {
     "data": {
      "text/plain": [
       "Alex      87.0\n",
       "Lucy      76.0\n",
       "Robert    76.0\n",
       "Minnie    94.0\n",
       "Alice     88.0\n",
       "Name: Assignment 2, dtype: float64"
      ]
     },
     "execution_count": 18,
     "metadata": {},
     "output_type": "execute_result"
    }
   ],
   "source": [
    "grades2 = Series([87, 76, 76, 94, 88],\n",
    "                index = ['Alex', 'Lucy', 'Robert', 'Minnie', 'Alice'],\n",
    "                name = 'Assignment 2',\n",
    "                dtype = float64)\n",
    "grades2"
   ]
  },
  {
   "cell_type": "markdown",
   "metadata": {},
   "source": [
    "**If we want to compute each student's average in the two assignments**"
   ]
  },
  {
   "cell_type": "code",
   "execution_count": 20,
   "metadata": {
    "collapsed": false
   },
   "outputs": [
    {
     "data": {
      "text/plain": [
       "Alex      81.5\n",
       "Alice     94.0\n",
       "Lucy       NaN\n",
       "Minnie    87.0\n",
       "Robert    79.0\n",
       "Theo       NaN\n",
       "dtype: float64"
      ]
     },
     "execution_count": 20,
     "metadata": {},
     "output_type": "execute_result"
    }
   ],
   "source": [
    "average = 0.5 * (grades1 + grades2)\n",
    "average"
   ]
  },
  {
   "cell_type": "markdown",
   "metadata": {},
   "source": [
    "**The value NaN stands for Not a number, which is a special floating-point value that is used to indicate the result of an invalid operation, such as zero divided by zero. In pandas, it is used to represent a missing data value.**"
   ]
  },
  {
   "cell_type": "markdown",
   "metadata": {},
   "source": [
    "**Locating The missing values**"
   ]
  },
  {
   "cell_type": "code",
   "execution_count": 22,
   "metadata": {
    "collapsed": false
   },
   "outputs": [
    {
     "data": {
      "text/plain": [
       "Alex      False\n",
       "Alice     False\n",
       "Lucy       True\n",
       "Minnie    False\n",
       "Robert    False\n",
       "Theo       True\n",
       "dtype: bool"
      ]
     },
     "execution_count": 22,
     "metadata": {},
     "output_type": "execute_result"
    }
   ],
   "source": [
    "average.isnull()"
   ]
  },
  {
   "cell_type": "markdown",
   "metadata": {},
   "source": [
    "**If we decide that the missing data can be safely removed from the series, we can use the dropna() method:**"
   ]
  },
  {
   "cell_type": "code",
   "execution_count": 24,
   "metadata": {
    "collapsed": false
   },
   "outputs": [
    {
     "data": {
      "text/plain": [
       "Alex      81.5\n",
       "Alice     94.0\n",
       "Minnie    87.0\n",
       "Robert    79.0\n",
       "dtype: float64"
      ]
     },
     "execution_count": 24,
     "metadata": {},
     "output_type": "execute_result"
    }
   ],
   "source": [
    "average.dropna()"
   ]
  },
  {
   "cell_type": "markdown",
   "metadata": {},
   "source": [
    "**Sorting**"
   ]
  },
  {
   "cell_type": "code",
   "execution_count": 26,
   "metadata": {
    "collapsed": false
   },
   "outputs": [
    {
     "data": {
      "text/plain": [
       "Alex       76.0\n",
       "Minnie     80.0\n",
       "Robert     82.0\n",
       "Theo       92.0\n",
       "Alice     100.0\n",
       "Name: Assignment 1, dtype: float64"
      ]
     },
     "execution_count": 26,
     "metadata": {},
     "output_type": "execute_result"
    }
   ],
   "source": [
    "grades1.sort_values()\n",
    "grades1"
   ]
  },
  {
   "cell_type": "code",
   "execution_count": 27,
   "metadata": {
    "collapsed": false
   },
   "outputs": [
    {
     "data": {
      "text/plain": [
       "Alex       76.0\n",
       "Alice     100.0\n",
       "Minnie     80.0\n",
       "Robert     82.0\n",
       "Theo       92.0\n",
       "Name: Assignment 1, dtype: float64"
      ]
     },
     "execution_count": 27,
     "metadata": {},
     "output_type": "execute_result"
    }
   ],
   "source": [
    "grades1.sort_index()"
   ]
  },
  {
   "cell_type": "markdown",
   "metadata": {},
   "source": [
    "*For the next examples, we will use data on maximum daily temperatures for the month of June from a weather station. The following command lines generates the series of temperatures for the days from June 6 to June 15:*"
   ]
  },
  {
   "cell_type": "code",
   "execution_count": 29,
   "metadata": {
    "collapsed": false
   },
   "outputs": [
    {
     "data": {
      "text/plain": [
       "6     71.0\n",
       "7     76.0\n",
       "8     69.0\n",
       "9     67.0\n",
       "10    74.0\n",
       "11    80.0\n",
       "12    82.0\n",
       "13    70.0\n",
       "14    66.0\n",
       "15    80.0\n",
       "Name: Temperatures, dtype: float64"
      ]
     },
     "execution_count": 29,
     "metadata": {},
     "output_type": "execute_result"
    }
   ],
   "source": [
    "temps = Series([71, 76, 69, 67, 74, 80, 82, 70, 66, 80],\n",
    "              index = range(6,16),\n",
    "              name='Temperatures', dtype=float64)\n",
    "temps"
   ]
  },
  {
   "cell_type": "code",
   "execution_count": 30,
   "metadata": {
    "collapsed": false
   },
   "outputs": [
    {
     "name": "stdout",
     "output_type": "stream",
     "text": [
      "73.5 5.77831194112\n"
     ]
    }
   ],
   "source": [
    "# Find the mean and the standard deviation\n",
    "print temps.mean(), temps.std()"
   ]
  },
  {
   "cell_type": "code",
   "execution_count": 31,
   "metadata": {
    "collapsed": false
   },
   "outputs": [
    {
     "data": {
      "text/plain": [
       "count    10.000000\n",
       "mean     73.500000\n",
       "std       5.778312\n",
       "min      66.000000\n",
       "25%      69.250000\n",
       "50%      72.500000\n",
       "75%      79.000000\n",
       "max      82.000000\n",
       "Name: Temperatures, dtype: float64"
      ]
     },
     "execution_count": 31,
     "metadata": {},
     "output_type": "execute_result"
    }
   ],
   "source": [
    "# quick overview of the data in the series\n",
    "temps.describe()"
   ]
  },
  {
   "cell_type": "code",
   "execution_count": 32,
   "metadata": {
    "collapsed": false
   },
   "outputs": [
    {
     "data": {
      "text/plain": [
       "<matplotlib.axes._subplots.AxesSubplot at 0x6db79d0>"
      ]
     },
     "execution_count": 32,
     "metadata": {},
     "output_type": "execute_result"
    },
    {
     "data": {
      "image/png": "[encoded data removed]",
      "text/plain": [
       "<matplotlib.figure.Figure at 0x6db7ed0>"
      ]
     },
     "metadata": {},
     "output_type": "display_data"
    }
   ],
   "source": [
    "# for a quick graphical overview\n",
    "temps.plot()"
   ]
  },
  {
   "cell_type": "code",
   "execution_count": 38,
   "metadata": {
    "collapsed": false
   },
   "outputs": [
    {
     "data": {
      "image/png": "[encoded data removed]",
      "text/plain": [
       "<matplotlib.figure.Figure at 0x84eceb0>"
      ]
     },
     "metadata": {},
     "output_type": "display_data"
    }
   ],
   "source": [
    "# for a nicely formatted plot\n",
    "temps.plot(style='-s', lw=2, color='green')\n",
    "axis((6, 15, 65, 85))\n",
    "xlabel('Day')\n",
    "ylabel('Temperature')\n",
    "title('Maximum daily temperatures in June')\n",
    "None"
   ]
  },
  {
   "cell_type": "code",
   "execution_count": 39,
   "metadata": {
    "collapsed": false
   },
   "outputs": [
    {
     "data": {
      "text/plain": [
       "7     76.0\n",
       "11    80.0\n",
       "12    82.0\n",
       "15    80.0\n",
       "Name: Temperatures, dtype: float64"
      ]
     },
     "execution_count": 39,
     "metadata": {},
     "output_type": "execute_result"
    }
   ],
   "source": [
    "# maximum temperature was above 75 degrees\n",
    "temps[temps > 75]"
   ]
  },
  {
   "cell_type": "code",
   "execution_count": 40,
   "metadata": {
    "collapsed": false
   },
   "outputs": [
    {
     "data": {
      "text/plain": [
       "(10,)"
      ]
     },
     "execution_count": 40,
     "metadata": {},
     "output_type": "execute_result"
    }
   ],
   "source": [
    "temps.shape"
   ]
  },
  {
   "cell_type": "markdown",
   "metadata": {},
   "source": [
    "# 2. The DataFrame class"
   ]
  },
  {
   "cell_type": "markdown",
   "metadata": {},
   "source": [
    "The **DataFrame** class is used to represent two-dimensional data"
   ]
  },
  {
   "cell_type": "code",
   "execution_count": 43,
   "metadata": {
    "collapsed": false
   },
   "outputs": [
    {
     "data": {
      "text/html": [
       "<div>\n",
       "<table border=\"1\" class=\"dataframe\">\n",
       "  <thead>\n",
       "    <tr style=\"text-align: right;\">\n",
       "      <th></th>\n",
       "      <th>Name</th>\n",
       "      <th>Test 1</th>\n",
       "      <th>Test 2</th>\n",
       "      <th>Final</th>\n",
       "    </tr>\n",
       "  </thead>\n",
       "  <tbody>\n",
       "    <tr>\n",
       "      <th>17005</th>\n",
       "      <td>Alice</td>\n",
       "      <td>80.0</td>\n",
       "      <td>92.0</td>\n",
       "      <td>84.0</td>\n",
       "    </tr>\n",
       "    <tr>\n",
       "      <th>17035</th>\n",
       "      <td>Bob</td>\n",
       "      <td>78.0</td>\n",
       "      <td>NaN</td>\n",
       "      <td>86.0</td>\n",
       "    </tr>\n",
       "    <tr>\n",
       "      <th>17028</th>\n",
       "      <td>Samaly</td>\n",
       "      <td>75.0</td>\n",
       "      <td>78.0</td>\n",
       "      <td>88.0</td>\n",
       "    </tr>\n",
       "  </tbody>\n",
       "</table>\n",
       "</div>"
      ],
      "text/plain": [
       "         Name  Test 1  Test 2  Final\n",
       "17005   Alice    80.0    92.0   84.0\n",
       "17035     Bob    78.0     NaN   86.0\n",
       "17028  Samaly    75.0    78.0   88.0"
      ]
     },
     "execution_count": 43,
     "metadata": {},
     "output_type": "execute_result"
    }
   ],
   "source": [
    "grades = DataFrame(\n",
    "    [['Alice', 80., 92., 84,],\n",
    "    ['Bob', 78., NaN, 86,],\n",
    "    ['Samaly', 75., 78., 88.]],\n",
    "    index = [17005, 17035, 17028],\n",
    "    columns = ['Name', 'Test 1', 'Test 2', 'Final']\n",
    ")\n",
    "\n",
    "grades"
   ]
  },
  {
   "cell_type": "code",
   "execution_count": 44,
   "metadata": {
    "collapsed": true
   },
   "outputs": [],
   "source": [
    "DataFrame?"
   ]
  },
  {
   "cell_type": "code",
   "execution_count": 45,
   "metadata": {
    "collapsed": false
   },
   "outputs": [
    {
     "data": {
      "text/html": [
       "<div>\n",
       "<table border=\"1\" class=\"dataframe\">\n",
       "  <thead>\n",
       "    <tr style=\"text-align: right;\">\n",
       "      <th></th>\n",
       "      <th>Column 1</th>\n",
       "      <th>Column2</th>\n",
       "    </tr>\n",
       "  </thead>\n",
       "  <tbody>\n",
       "    <tr>\n",
       "      <th>First Row</th>\n",
       "      <td>1</td>\n",
       "      <td>3</td>\n",
       "    </tr>\n",
       "    <tr>\n",
       "      <th>Second Row</th>\n",
       "      <td>2</td>\n",
       "      <td>4</td>\n",
       "    </tr>\n",
       "  </tbody>\n",
       "</table>\n",
       "</div>"
      ],
      "text/plain": [
       "            Column 1  Column2\n",
       "First Row          1        3\n",
       "Second Row         2        4"
      ]
     },
     "execution_count": 45,
     "metadata": {},
     "output_type": "execute_result"
    }
   ],
   "source": [
    "idx = pd.Index([\"First Row\", \"Second Row\"])\n",
    "col1 = Series([1, 2], index=idx)\n",
    "col2 = Series([3, 4], index=idx)\n",
    "data = {\"Column 1\":col1, \"Column2\":col2}\n",
    "df = DataFrame(data)\n",
    "df"
   ]
  },
  {
   "cell_type": "code",
   "execution_count": 48,
   "metadata": {
    "collapsed": false
   },
   "outputs": [
    {
     "data": {
      "text/html": [
       "<div>\n",
       "<table border=\"1\" class=\"dataframe\">\n",
       "  <thead>\n",
       "    <tr style=\"text-align: right;\">\n",
       "      <th></th>\n",
       "      <th>Name</th>\n",
       "      <th>Test 1</th>\n",
       "      <th>Test 2</th>\n",
       "      <th>Final</th>\n",
       "      <th>Score</th>\n",
       "    </tr>\n",
       "  </thead>\n",
       "  <tbody>\n",
       "    <tr>\n",
       "      <th>17005</th>\n",
       "      <td>Alice</td>\n",
       "      <td>80.0</td>\n",
       "      <td>92.0</td>\n",
       "      <td>84.0</td>\n",
       "      <td>85.00</td>\n",
       "    </tr>\n",
       "    <tr>\n",
       "      <th>17035</th>\n",
       "      <td>Bob</td>\n",
       "      <td>78.0</td>\n",
       "      <td>98.0</td>\n",
       "      <td>86.0</td>\n",
       "      <td>87.00</td>\n",
       "    </tr>\n",
       "    <tr>\n",
       "      <th>17028</th>\n",
       "      <td>Samaly</td>\n",
       "      <td>75.0</td>\n",
       "      <td>78.0</td>\n",
       "      <td>88.0</td>\n",
       "      <td>82.25</td>\n",
       "    </tr>\n",
       "  </tbody>\n",
       "</table>\n",
       "</div>"
      ],
      "text/plain": [
       "         Name  Test 1  Test 2  Final  Score\n",
       "17005   Alice    80.0    92.0   84.0  85.00\n",
       "17035     Bob    78.0    98.0   86.0  87.00\n",
       "17028  Samaly    75.0    78.0   88.0  82.25"
      ]
     },
     "execution_count": 48,
     "metadata": {},
     "output_type": "execute_result"
    }
   ],
   "source": [
    "grades.loc[:, 'Score'] = 0.25 * (grades['Test 1'] + grades['Test 2'] + 2 * grades['Final'])\n",
    "grades"
   ]
  },
  {
   "cell_type": "code",
   "execution_count": 49,
   "metadata": {
    "collapsed": false
   },
   "outputs": [
    {
     "data": {
      "text/html": [
       "<div>\n",
       "<table border=\"1\" class=\"dataframe\">\n",
       "  <thead>\n",
       "    <tr style=\"text-align: right;\">\n",
       "      <th></th>\n",
       "      <th>Name</th>\n",
       "      <th>Test 1</th>\n",
       "      <th>Test 2</th>\n",
       "      <th>Final</th>\n",
       "      <th>Score</th>\n",
       "    </tr>\n",
       "  </thead>\n",
       "  <tbody>\n",
       "    <tr>\n",
       "      <th>17005</th>\n",
       "      <td>Alice</td>\n",
       "      <td>80.0</td>\n",
       "      <td>92.0</td>\n",
       "      <td>84.0</td>\n",
       "      <td>85.00</td>\n",
       "    </tr>\n",
       "    <tr>\n",
       "      <th>17035</th>\n",
       "      <td>Bob</td>\n",
       "      <td>78.0</td>\n",
       "      <td>98.0</td>\n",
       "      <td>86.0</td>\n",
       "      <td>87.00</td>\n",
       "    </tr>\n",
       "    <tr>\n",
       "      <th>17028</th>\n",
       "      <td>Samaly</td>\n",
       "      <td>75.0</td>\n",
       "      <td>78.0</td>\n",
       "      <td>88.0</td>\n",
       "      <td>82.25</td>\n",
       "    </tr>\n",
       "  </tbody>\n",
       "</table>\n",
       "</div>"
      ],
      "text/plain": [
       "         Name  Test 1  Test 2  Final  Score\n",
       "17005   Alice    80.0    92.0   84.0  85.00\n",
       "17035     Bob    78.0    98.0   86.0  87.00\n",
       "17028  Samaly    75.0    78.0   88.0  82.25"
      ]
     },
     "execution_count": 49,
     "metadata": {},
     "output_type": "execute_result"
    }
   ],
   "source": [
    "grades.loc[17035, 'Test 2'] = 98\n",
    "grades"
   ]
  },
  {
   "cell_type": "code",
   "execution_count": 50,
   "metadata": {
    "collapsed": false
   },
   "outputs": [
    {
     "data": {
      "text/html": [
       "<div>\n",
       "<table border=\"1\" class=\"dataframe\">\n",
       "  <thead>\n",
       "    <tr style=\"text-align: right;\">\n",
       "      <th></th>\n",
       "      <th>Name</th>\n",
       "      <th>Test 1</th>\n",
       "      <th>Test 2</th>\n",
       "      <th>Final</th>\n",
       "      <th>Extra credit</th>\n",
       "      <th>Score</th>\n",
       "    </tr>\n",
       "  </thead>\n",
       "  <tbody>\n",
       "    <tr>\n",
       "      <th>17005</th>\n",
       "      <td>Alice</td>\n",
       "      <td>80.0</td>\n",
       "      <td>92.0</td>\n",
       "      <td>84.0</td>\n",
       "      <td>2.0</td>\n",
       "      <td>85.00</td>\n",
       "    </tr>\n",
       "    <tr>\n",
       "      <th>17035</th>\n",
       "      <td>Bob</td>\n",
       "      <td>78.0</td>\n",
       "      <td>98.0</td>\n",
       "      <td>86.0</td>\n",
       "      <td>6.0</td>\n",
       "      <td>87.00</td>\n",
       "    </tr>\n",
       "    <tr>\n",
       "      <th>17028</th>\n",
       "      <td>Samaly</td>\n",
       "      <td>75.0</td>\n",
       "      <td>78.0</td>\n",
       "      <td>88.0</td>\n",
       "      <td>10.0</td>\n",
       "      <td>82.25</td>\n",
       "    </tr>\n",
       "  </tbody>\n",
       "</table>\n",
       "</div>"
      ],
      "text/plain": [
       "         Name  Test 1  Test 2  Final  Extra credit  Score\n",
       "17005   Alice    80.0    92.0   84.0           2.0  85.00\n",
       "17035     Bob    78.0    98.0   86.0           6.0  87.00\n",
       "17028  Samaly    75.0    78.0   88.0          10.0  82.25"
      ]
     },
     "execution_count": 50,
     "metadata": {},
     "output_type": "execute_result"
    }
   ],
   "source": [
    "grades.insert(4, 'Extra credit', [2., 6., 10.])\n",
    "grades"
   ]
  },
  {
   "cell_type": "code",
   "execution_count": 52,
   "metadata": {
    "collapsed": false
   },
   "outputs": [
    {
     "data": {
      "text/html": [
       "<div>\n",
       "<table border=\"1\" class=\"dataframe\">\n",
       "  <thead>\n",
       "    <tr style=\"text-align: right;\">\n",
       "      <th></th>\n",
       "      <th>Name</th>\n",
       "      <th>Test 1</th>\n",
       "      <th>Test 2</th>\n",
       "      <th>Final</th>\n",
       "      <th>Extra credit</th>\n",
       "      <th>Score</th>\n",
       "    </tr>\n",
       "  </thead>\n",
       "  <tbody>\n",
       "    <tr>\n",
       "      <th>17005</th>\n",
       "      <td>Alice</td>\n",
       "      <td>80.0</td>\n",
       "      <td>92.0</td>\n",
       "      <td>84.0</td>\n",
       "      <td>2.0</td>\n",
       "      <td>85.00</td>\n",
       "    </tr>\n",
       "    <tr>\n",
       "      <th>17035</th>\n",
       "      <td>Bob</td>\n",
       "      <td>78.0</td>\n",
       "      <td>98.0</td>\n",
       "      <td>86.0</td>\n",
       "      <td>6.0</td>\n",
       "      <td>87.00</td>\n",
       "    </tr>\n",
       "    <tr>\n",
       "      <th>17028</th>\n",
       "      <td>Samaly</td>\n",
       "      <td>75.0</td>\n",
       "      <td>78.0</td>\n",
       "      <td>88.0</td>\n",
       "      <td>10.0</td>\n",
       "      <td>82.25</td>\n",
       "    </tr>\n",
       "    <tr>\n",
       "      <th>17011</th>\n",
       "      <td>George</td>\n",
       "      <td>92.0</td>\n",
       "      <td>88.0</td>\n",
       "      <td>91.0</td>\n",
       "      <td>9.0</td>\n",
       "      <td>NaN</td>\n",
       "    </tr>\n",
       "  </tbody>\n",
       "</table>\n",
       "</div>"
      ],
      "text/plain": [
       "         Name  Test 1  Test 2  Final  Extra credit  Score\n",
       "17005   Alice    80.0    92.0   84.0           2.0  85.00\n",
       "17035     Bob    78.0    98.0   86.0           6.0  87.00\n",
       "17028  Samaly    75.0    78.0   88.0          10.0  82.25\n",
       "17011  George    92.0    88.0   91.0           9.0    NaN"
      ]
     },
     "execution_count": 52,
     "metadata": {},
     "output_type": "execute_result"
    }
   ],
   "source": [
    "grades.loc[17011,:] = ['George', 92, 88, 91, 9, NaN]\n",
    "grades"
   ]
  },
  {
   "cell_type": "code",
   "execution_count": 53,
   "metadata": {
    "collapsed": false
   },
   "outputs": [
    {
     "data": {
      "text/html": [
       "<div>\n",
       "<table border=\"1\" class=\"dataframe\">\n",
       "  <thead>\n",
       "    <tr style=\"text-align: right;\">\n",
       "      <th></th>\n",
       "      <th>Name</th>\n",
       "      <th>Test 1</th>\n",
       "      <th>Test 2</th>\n",
       "      <th>Final</th>\n",
       "      <th>Extra credit</th>\n",
       "      <th>Score</th>\n",
       "    </tr>\n",
       "  </thead>\n",
       "  <tbody>\n",
       "    <tr>\n",
       "      <th>17005</th>\n",
       "      <td>Alice</td>\n",
       "      <td>80.0</td>\n",
       "      <td>92.0</td>\n",
       "      <td>84.0</td>\n",
       "      <td>2.0</td>\n",
       "      <td>87.00</td>\n",
       "    </tr>\n",
       "    <tr>\n",
       "      <th>17035</th>\n",
       "      <td>Bob</td>\n",
       "      <td>78.0</td>\n",
       "      <td>98.0</td>\n",
       "      <td>86.0</td>\n",
       "      <td>6.0</td>\n",
       "      <td>93.00</td>\n",
       "    </tr>\n",
       "    <tr>\n",
       "      <th>17028</th>\n",
       "      <td>Samaly</td>\n",
       "      <td>75.0</td>\n",
       "      <td>78.0</td>\n",
       "      <td>88.0</td>\n",
       "      <td>10.0</td>\n",
       "      <td>92.25</td>\n",
       "    </tr>\n",
       "    <tr>\n",
       "      <th>17011</th>\n",
       "      <td>George</td>\n",
       "      <td>92.0</td>\n",
       "      <td>88.0</td>\n",
       "      <td>91.0</td>\n",
       "      <td>9.0</td>\n",
       "      <td>99.50</td>\n",
       "    </tr>\n",
       "  </tbody>\n",
       "</table>\n",
       "</div>"
      ],
      "text/plain": [
       "         Name  Test 1  Test 2  Final  Extra credit  Score\n",
       "17005   Alice    80.0    92.0   84.0           2.0  87.00\n",
       "17035     Bob    78.0    98.0   86.0           6.0  93.00\n",
       "17028  Samaly    75.0    78.0   88.0          10.0  92.25\n",
       "17011  George    92.0    88.0   91.0           9.0  99.50"
      ]
     },
     "execution_count": 53,
     "metadata": {},
     "output_type": "execute_result"
    }
   ],
   "source": [
    "grades.loc[:,'Score'] = 0.25 * (grades['Test 1'] + grades['Test 2'] + 2 *\n",
    "grades['Final']) + grades['Extra credit']\n",
    "grades"
   ]
  },
  {
   "cell_type": "code",
   "execution_count": 54,
   "metadata": {
    "collapsed": false
   },
   "outputs": [
    {
     "data": {
      "text/html": [
       "<div>\n",
       "<table border=\"1\" class=\"dataframe\">\n",
       "  <thead>\n",
       "    <tr style=\"text-align: right;\">\n",
       "      <th></th>\n",
       "      <th>Name</th>\n",
       "      <th>Test 1</th>\n",
       "      <th>Test 2</th>\n",
       "      <th>Final</th>\n",
       "      <th>Extra credit</th>\n",
       "      <th>Score</th>\n",
       "    </tr>\n",
       "  </thead>\n",
       "  <tbody>\n",
       "    <tr>\n",
       "      <th>17028</th>\n",
       "      <td>Samaly</td>\n",
       "      <td>75.0</td>\n",
       "      <td>78.0</td>\n",
       "      <td>88.0</td>\n",
       "      <td>10.0</td>\n",
       "      <td>92.25</td>\n",
       "    </tr>\n",
       "  </tbody>\n",
       "</table>\n",
       "</div>"
      ],
      "text/plain": [
       "         Name  Test 1  Test 2  Final  Extra credit  Score\n",
       "17028  Samaly    75.0    78.0   88.0          10.0  92.25"
      ]
     },
     "execution_count": 54,
     "metadata": {},
     "output_type": "execute_result"
    }
   ],
   "source": [
    "# Find Students who got an A and had a score of less than 78 in Test 1.\n",
    "grades[(grades['Score'] >= 90) & (grades['Test 1'] < 78)]"
   ]
  },
  {
   "cell_type": "code",
   "execution_count": 61,
   "metadata": {
    "collapsed": false
   },
   "outputs": [
    {
     "data": {
      "text/html": [
       "<div>\n",
       "<table border=\"1\" class=\"dataframe\">\n",
       "  <thead>\n",
       "    <tr style=\"text-align: right;\">\n",
       "      <th></th>\n",
       "      <th>Name</th>\n",
       "      <th>Score</th>\n",
       "    </tr>\n",
       "  </thead>\n",
       "  <tbody>\n",
       "    <tr>\n",
       "      <th>17005</th>\n",
       "      <td>Alice</td>\n",
       "      <td>87.00</td>\n",
       "    </tr>\n",
       "    <tr>\n",
       "      <th>17035</th>\n",
       "      <td>Bob</td>\n",
       "      <td>93.00</td>\n",
       "    </tr>\n",
       "    <tr>\n",
       "      <th>17028</th>\n",
       "      <td>Samaly</td>\n",
       "      <td>92.25</td>\n",
       "    </tr>\n",
       "    <tr>\n",
       "      <th>17011</th>\n",
       "      <td>George</td>\n",
       "      <td>99.50</td>\n",
       "    </tr>\n",
       "  </tbody>\n",
       "</table>\n",
       "</div>"
      ],
      "text/plain": [
       "         Name  Score\n",
       "17005   Alice  87.00\n",
       "17035     Bob  93.00\n",
       "17028  Samaly  92.25\n",
       "17011  George  99.50"
      ]
     },
     "execution_count": 61,
     "metadata": {},
     "output_type": "execute_result"
    }
   ],
   "source": [
    "# the names and scores of the students who have a score of at least 80, but less than 90\n",
    "grades[(80 <= grades['Score']) & grades['Score'] < 90].loc[:, ['Name', 'Score']]"
   ]
  },
  {
   "cell_type": "code",
   "execution_count": 63,
   "metadata": {
    "collapsed": false
   },
   "outputs": [
    {
     "data": {
      "text/html": [
       "<div>\n",
       "<table border=\"1\" class=\"dataframe\">\n",
       "  <thead>\n",
       "    <tr style=\"text-align: right;\">\n",
       "      <th></th>\n",
       "      <th>Mean = -1, sd = 1</th>\n",
       "      <th>Mean = -1, sd = 2</th>\n",
       "      <th>Mean = -2, sd = 1</th>\n",
       "      <th>Mean = -2, sd = 2</th>\n",
       "      <th>Mean = 0, sd = 1</th>\n",
       "      <th>Mean = 0, sd = 2</th>\n",
       "      <th>Mean = 1, sd = 1</th>\n",
       "      <th>Mean = 1, sd = 2</th>\n",
       "    </tr>\n",
       "  </thead>\n",
       "  <tbody>\n",
       "    <tr>\n",
       "      <th>Row 0</th>\n",
       "      <td>-2.791330</td>\n",
       "      <td>1.359483</td>\n",
       "      <td>0.269685</td>\n",
       "      <td>-2.550369</td>\n",
       "      <td>0.524773</td>\n",
       "      <td>1.132685</td>\n",
       "      <td>-0.958139</td>\n",
       "      <td>4.226053</td>\n",
       "    </tr>\n",
       "    <tr>\n",
       "      <th>Row 1</th>\n",
       "      <td>-1.045152</td>\n",
       "      <td>-1.330461</td>\n",
       "      <td>-1.095296</td>\n",
       "      <td>-3.290650</td>\n",
       "      <td>-0.881401</td>\n",
       "      <td>-1.665041</td>\n",
       "      <td>-0.901571</td>\n",
       "      <td>1.680149</td>\n",
       "    </tr>\n",
       "    <tr>\n",
       "      <th>Row 2</th>\n",
       "      <td>-1.919142</td>\n",
       "      <td>-1.177139</td>\n",
       "      <td>-1.067711</td>\n",
       "      <td>-3.395376</td>\n",
       "      <td>-1.486370</td>\n",
       "      <td>1.756740</td>\n",
       "      <td>1.727168</td>\n",
       "      <td>0.826540</td>\n",
       "    </tr>\n",
       "    <tr>\n",
       "      <th>Row 3</th>\n",
       "      <td>0.377973</td>\n",
       "      <td>-0.014229</td>\n",
       "      <td>-2.263063</td>\n",
       "      <td>-4.284464</td>\n",
       "      <td>-0.000397</td>\n",
       "      <td>-0.365085</td>\n",
       "      <td>0.509255</td>\n",
       "      <td>0.667085</td>\n",
       "    </tr>\n",
       "    <tr>\n",
       "      <th>Row 4</th>\n",
       "      <td>-0.113117</td>\n",
       "      <td>-2.967594</td>\n",
       "      <td>-2.402889</td>\n",
       "      <td>-1.935173</td>\n",
       "      <td>0.306669</td>\n",
       "      <td>-0.781291</td>\n",
       "      <td>2.348691</td>\n",
       "      <td>1.360299</td>\n",
       "    </tr>\n",
       "    <tr>\n",
       "      <th>Row 5</th>\n",
       "      <td>-1.420188</td>\n",
       "      <td>-1.204026</td>\n",
       "      <td>-2.026863</td>\n",
       "      <td>0.362340</td>\n",
       "      <td>0.496334</td>\n",
       "      <td>5.332068</td>\n",
       "      <td>0.614456</td>\n",
       "      <td>0.440122</td>\n",
       "    </tr>\n",
       "    <tr>\n",
       "      <th>Row 6</th>\n",
       "      <td>-0.837336</td>\n",
       "      <td>-3.419722</td>\n",
       "      <td>-1.594882</td>\n",
       "      <td>-3.561918</td>\n",
       "      <td>1.202178</td>\n",
       "      <td>-0.055514</td>\n",
       "      <td>0.135722</td>\n",
       "      <td>1.675816</td>\n",
       "    </tr>\n",
       "    <tr>\n",
       "      <th>Row 7</th>\n",
       "      <td>-0.359247</td>\n",
       "      <td>-4.995115</td>\n",
       "      <td>-1.297953</td>\n",
       "      <td>0.916738</td>\n",
       "      <td>-0.677636</td>\n",
       "      <td>0.007396</td>\n",
       "      <td>-0.157328</td>\n",
       "      <td>1.570037</td>\n",
       "    </tr>\n",
       "    <tr>\n",
       "      <th>Row 8</th>\n",
       "      <td>-0.579335</td>\n",
       "      <td>-1.515917</td>\n",
       "      <td>-1.304916</td>\n",
       "      <td>-2.659974</td>\n",
       "      <td>2.357510</td>\n",
       "      <td>-0.497914</td>\n",
       "      <td>1.030859</td>\n",
       "      <td>0.703749</td>\n",
       "    </tr>\n",
       "    <tr>\n",
       "      <th>Row 9</th>\n",
       "      <td>-1.865919</td>\n",
       "      <td>2.538343</td>\n",
       "      <td>-2.245147</td>\n",
       "      <td>-3.040999</td>\n",
       "      <td>-0.914259</td>\n",
       "      <td>-1.388874</td>\n",
       "      <td>1.271935</td>\n",
       "      <td>3.935733</td>\n",
       "    </tr>\n",
       "    <tr>\n",
       "      <th>Row 10</th>\n",
       "      <td>-0.754305</td>\n",
       "      <td>1.061862</td>\n",
       "      <td>-2.318429</td>\n",
       "      <td>-2.193117</td>\n",
       "      <td>-0.012460</td>\n",
       "      <td>-0.162934</td>\n",
       "      <td>-0.868489</td>\n",
       "      <td>1.896515</td>\n",
       "    </tr>\n",
       "    <tr>\n",
       "      <th>Row 11</th>\n",
       "      <td>-1.158128</td>\n",
       "      <td>-0.493403</td>\n",
       "      <td>-3.378908</td>\n",
       "      <td>-0.533384</td>\n",
       "      <td>-1.832970</td>\n",
       "      <td>1.157471</td>\n",
       "      <td>0.592795</td>\n",
       "      <td>-1.459318</td>\n",
       "    </tr>\n",
       "    <tr>\n",
       "      <th>Row 12</th>\n",
       "      <td>-2.396070</td>\n",
       "      <td>-0.749070</td>\n",
       "      <td>-2.855733</td>\n",
       "      <td>-1.511953</td>\n",
       "      <td>-1.460884</td>\n",
       "      <td>-0.572774</td>\n",
       "      <td>0.719456</td>\n",
       "      <td>2.541820</td>\n",
       "    </tr>\n",
       "    <tr>\n",
       "      <th>Row 13</th>\n",
       "      <td>-1.485800</td>\n",
       "      <td>-0.878725</td>\n",
       "      <td>-1.112799</td>\n",
       "      <td>-2.558127</td>\n",
       "      <td>0.648565</td>\n",
       "      <td>1.057808</td>\n",
       "      <td>0.981386</td>\n",
       "      <td>-0.263345</td>\n",
       "    </tr>\n",
       "    <tr>\n",
       "      <th>Row 14</th>\n",
       "      <td>0.390926</td>\n",
       "      <td>-1.364110</td>\n",
       "      <td>-2.552178</td>\n",
       "      <td>-1.851655</td>\n",
       "      <td>-0.891348</td>\n",
       "      <td>3.064199</td>\n",
       "      <td>-0.138279</td>\n",
       "      <td>1.633484</td>\n",
       "    </tr>\n",
       "    <tr>\n",
       "      <th>Row 15</th>\n",
       "      <td>-2.068681</td>\n",
       "      <td>0.198784</td>\n",
       "      <td>-2.756473</td>\n",
       "      <td>-2.585334</td>\n",
       "      <td>-0.047730</td>\n",
       "      <td>0.263089</td>\n",
       "      <td>1.000944</td>\n",
       "      <td>1.666219</td>\n",
       "    </tr>\n",
       "    <tr>\n",
       "      <th>Row 16</th>\n",
       "      <td>-0.577639</td>\n",
       "      <td>1.498213</td>\n",
       "      <td>-2.630234</td>\n",
       "      <td>0.080296</td>\n",
       "      <td>-0.470554</td>\n",
       "      <td>-0.472749</td>\n",
       "      <td>0.303191</td>\n",
       "      <td>0.647251</td>\n",
       "    </tr>\n",
       "    <tr>\n",
       "      <th>Row 17</th>\n",
       "      <td>1.060759</td>\n",
       "      <td>1.173694</td>\n",
       "      <td>-2.152477</td>\n",
       "      <td>-5.135257</td>\n",
       "      <td>-1.141219</td>\n",
       "      <td>-1.380218</td>\n",
       "      <td>-0.441458</td>\n",
       "      <td>0.909693</td>\n",
       "    </tr>\n",
       "    <tr>\n",
       "      <th>Row 18</th>\n",
       "      <td>-0.612735</td>\n",
       "      <td>-2.533445</td>\n",
       "      <td>-4.063529</td>\n",
       "      <td>-4.188703</td>\n",
       "      <td>-0.396369</td>\n",
       "      <td>3.526464</td>\n",
       "      <td>0.006310</td>\n",
       "      <td>1.921113</td>\n",
       "    </tr>\n",
       "    <tr>\n",
       "      <th>Row 19</th>\n",
       "      <td>-2.066542</td>\n",
       "      <td>-2.179904</td>\n",
       "      <td>-3.241202</td>\n",
       "      <td>-4.280530</td>\n",
       "      <td>-1.133884</td>\n",
       "      <td>2.942388</td>\n",
       "      <td>0.507119</td>\n",
       "      <td>2.410182</td>\n",
       "    </tr>\n",
       "    <tr>\n",
       "      <th>Row 20</th>\n",
       "      <td>-1.548834</td>\n",
       "      <td>-1.708352</td>\n",
       "      <td>-0.450620</td>\n",
       "      <td>-5.885468</td>\n",
       "      <td>-1.512826</td>\n",
       "      <td>0.609217</td>\n",
       "      <td>0.645620</td>\n",
       "      <td>0.854120</td>\n",
       "    </tr>\n",
       "    <tr>\n",
       "      <th>Row 21</th>\n",
       "      <td>-1.453938</td>\n",
       "      <td>-1.488337</td>\n",
       "      <td>-1.248231</td>\n",
       "      <td>-3.623535</td>\n",
       "      <td>-1.106113</td>\n",
       "      <td>-2.385255</td>\n",
       "      <td>0.852606</td>\n",
       "      <td>0.866640</td>\n",
       "    </tr>\n",
       "    <tr>\n",
       "      <th>Row 22</th>\n",
       "      <td>-0.633745</td>\n",
       "      <td>-2.693915</td>\n",
       "      <td>-1.264861</td>\n",
       "      <td>-1.924560</td>\n",
       "      <td>-1.916752</td>\n",
       "      <td>1.766037</td>\n",
       "      <td>1.362325</td>\n",
       "      <td>2.125190</td>\n",
       "    </tr>\n",
       "    <tr>\n",
       "      <th>Row 23</th>\n",
       "      <td>-2.383043</td>\n",
       "      <td>-2.070880</td>\n",
       "      <td>-3.705941</td>\n",
       "      <td>-1.690413</td>\n",
       "      <td>-0.511772</td>\n",
       "      <td>-1.901829</td>\n",
       "      <td>0.163061</td>\n",
       "      <td>-0.521820</td>\n",
       "    </tr>\n",
       "    <tr>\n",
       "      <th>Row 24</th>\n",
       "      <td>-1.422125</td>\n",
       "      <td>-0.795156</td>\n",
       "      <td>-1.090352</td>\n",
       "      <td>-3.259730</td>\n",
       "      <td>-0.453772</td>\n",
       "      <td>-0.926071</td>\n",
       "      <td>2.010542</td>\n",
       "      <td>-1.655960</td>\n",
       "    </tr>\n",
       "    <tr>\n",
       "      <th>Row 25</th>\n",
       "      <td>-1.583230</td>\n",
       "      <td>-1.741417</td>\n",
       "      <td>-0.583442</td>\n",
       "      <td>-1.834665</td>\n",
       "      <td>1.063749</td>\n",
       "      <td>-3.701138</td>\n",
       "      <td>2.062380</td>\n",
       "      <td>-0.176929</td>\n",
       "    </tr>\n",
       "    <tr>\n",
       "      <th>Row 26</th>\n",
       "      <td>0.419109</td>\n",
       "      <td>-4.237470</td>\n",
       "      <td>-1.767402</td>\n",
       "      <td>-0.973654</td>\n",
       "      <td>0.250316</td>\n",
       "      <td>1.937062</td>\n",
       "      <td>1.221577</td>\n",
       "      <td>-1.797943</td>\n",
       "    </tr>\n",
       "    <tr>\n",
       "      <th>Row 27</th>\n",
       "      <td>-1.273800</td>\n",
       "      <td>0.057937</td>\n",
       "      <td>-1.316693</td>\n",
       "      <td>0.062833</td>\n",
       "      <td>0.561356</td>\n",
       "      <td>0.551592</td>\n",
       "      <td>1.930051</td>\n",
       "      <td>2.261591</td>\n",
       "    </tr>\n",
       "    <tr>\n",
       "      <th>Row 28</th>\n",
       "      <td>-1.412424</td>\n",
       "      <td>-1.522896</td>\n",
       "      <td>-1.840904</td>\n",
       "      <td>-2.428817</td>\n",
       "      <td>-1.592926</td>\n",
       "      <td>3.379065</td>\n",
       "      <td>0.408504</td>\n",
       "      <td>1.797170</td>\n",
       "    </tr>\n",
       "    <tr>\n",
       "      <th>Row 29</th>\n",
       "      <td>-1.436948</td>\n",
       "      <td>-1.986643</td>\n",
       "      <td>-3.179691</td>\n",
       "      <td>-4.424741</td>\n",
       "      <td>0.005903</td>\n",
       "      <td>-0.273539</td>\n",
       "      <td>1.750107</td>\n",
       "      <td>-0.539136</td>\n",
       "    </tr>\n",
       "  </tbody>\n",
       "</table>\n",
       "</div>"
      ],
      "text/plain": [
       "        Mean = -1, sd = 1  Mean = -1, sd = 2  Mean = -2, sd = 1  \\\n",
       "Row 0           -2.791330           1.359483           0.269685   \n",
       "Row 1           -1.045152          -1.330461          -1.095296   \n",
       "Row 2           -1.919142          -1.177139          -1.067711   \n",
       "Row 3            0.377973          -0.014229          -2.263063   \n",
       "Row 4           -0.113117          -2.967594          -2.402889   \n",
       "Row 5           -1.420188          -1.204026          -2.026863   \n",
       "Row 6           -0.837336          -3.419722          -1.594882   \n",
       "Row 7           -0.359247          -4.995115          -1.297953   \n",
       "Row 8           -0.579335          -1.515917          -1.304916   \n",
       "Row 9           -1.865919           2.538343          -2.245147   \n",
       "Row 10          -0.754305           1.061862          -2.318429   \n",
       "Row 11          -1.158128          -0.493403          -3.378908   \n",
       "Row 12          -2.396070          -0.749070          -2.855733   \n",
       "Row 13          -1.485800          -0.878725          -1.112799   \n",
       "Row 14           0.390926          -1.364110          -2.552178   \n",
       "Row 15          -2.068681           0.198784          -2.756473   \n",
       "Row 16          -0.577639           1.498213          -2.630234   \n",
       "Row 17           1.060759           1.173694          -2.152477   \n",
       "Row 18          -0.612735          -2.533445          -4.063529   \n",
       "Row 19          -2.066542          -2.179904          -3.241202   \n",
       "Row 20          -1.548834          -1.708352          -0.450620   \n",
       "Row 21          -1.453938          -1.488337          -1.248231   \n",
       "Row 22          -0.633745          -2.693915          -1.264861   \n",
       "Row 23          -2.383043          -2.070880          -3.705941   \n",
       "Row 24          -1.422125          -0.795156          -1.090352   \n",
       "Row 25          -1.583230          -1.741417          -0.583442   \n",
       "Row 26           0.419109          -4.237470          -1.767402   \n",
       "Row 27          -1.273800           0.057937          -1.316693   \n",
       "Row 28          -1.412424          -1.522896          -1.840904   \n",
       "Row 29          -1.436948          -1.986643          -3.179691   \n",
       "\n",
       "        Mean = -2, sd = 2  Mean = 0, sd = 1  Mean = 0, sd = 2  \\\n",
       "Row 0           -2.550369          0.524773          1.132685   \n",
       "Row 1           -3.290650         -0.881401         -1.665041   \n",
       "Row 2           -3.395376         -1.486370          1.756740   \n",
       "Row 3           -4.284464         -0.000397         -0.365085   \n",
       "Row 4           -1.935173          0.306669         -0.781291   \n",
       "Row 5            0.362340          0.496334          5.332068   \n",
       "Row 6           -3.561918          1.202178         -0.055514   \n",
       "Row 7            0.916738         -0.677636          0.007396   \n",
       "Row 8           -2.659974          2.357510         -0.497914   \n",
       "Row 9           -3.040999         -0.914259         -1.388874   \n",
       "Row 10          -2.193117         -0.012460         -0.162934   \n",
       "Row 11          -0.533384         -1.832970          1.157471   \n",
       "Row 12          -1.511953         -1.460884         -0.572774   \n",
       "Row 13          -2.558127          0.648565          1.057808   \n",
       "Row 14          -1.851655         -0.891348          3.064199   \n",
       "Row 15          -2.585334         -0.047730          0.263089   \n",
       "Row 16           0.080296         -0.470554         -0.472749   \n",
       "Row 17          -5.135257         -1.141219         -1.380218   \n",
       "Row 18          -4.188703         -0.396369          3.526464   \n",
       "Row 19          -4.280530         -1.133884          2.942388   \n",
       "Row 20          -5.885468         -1.512826          0.609217   \n",
       "Row 21          -3.623535         -1.106113         -2.385255   \n",
       "Row 22          -1.924560         -1.916752          1.766037   \n",
       "Row 23          -1.690413         -0.511772         -1.901829   \n",
       "Row 24          -3.259730         -0.453772         -0.926071   \n",
       "Row 25          -1.834665          1.063749         -3.701138   \n",
       "Row 26          -0.973654          0.250316          1.937062   \n",
       "Row 27           0.062833          0.561356          0.551592   \n",
       "Row 28          -2.428817         -1.592926          3.379065   \n",
       "Row 29          -4.424741          0.005903         -0.273539   \n",
       "\n",
       "        Mean = 1, sd = 1  Mean = 1, sd = 2  \n",
       "Row 0          -0.958139          4.226053  \n",
       "Row 1          -0.901571          1.680149  \n",
       "Row 2           1.727168          0.826540  \n",
       "Row 3           0.509255          0.667085  \n",
       "Row 4           2.348691          1.360299  \n",
       "Row 5           0.614456          0.440122  \n",
       "Row 6           0.135722          1.675816  \n",
       "Row 7          -0.157328          1.570037  \n",
       "Row 8           1.030859          0.703749  \n",
       "Row 9           1.271935          3.935733  \n",
       "Row 10         -0.868489          1.896515  \n",
       "Row 11          0.592795         -1.459318  \n",
       "Row 12          0.719456          2.541820  \n",
       "Row 13          0.981386         -0.263345  \n",
       "Row 14         -0.138279          1.633484  \n",
       "Row 15          1.000944          1.666219  \n",
       "Row 16          0.303191          0.647251  \n",
       "Row 17         -0.441458          0.909693  \n",
       "Row 18          0.006310          1.921113  \n",
       "Row 19          0.507119          2.410182  \n",
       "Row 20          0.645620          0.854120  \n",
       "Row 21          0.852606          0.866640  \n",
       "Row 22          1.362325          2.125190  \n",
       "Row 23          0.163061         -0.521820  \n",
       "Row 24          2.010542         -1.655960  \n",
       "Row 25          2.062380         -0.176929  \n",
       "Row 26          1.221577         -1.797943  \n",
       "Row 27          1.930051          2.261591  \n",
       "Row 28          0.408504          1.797170  \n",
       "Row 29          1.750107         -0.539136  "
      ]
     },
     "execution_count": 63,
     "metadata": {},
     "output_type": "execute_result"
    }
   ],
   "source": [
    "means = [0, 0, 1, 1, -1, -1, -2, -2]\n",
    "sdevs = [1, 2, 1, 2, 1, 2, 1, 2]\n",
    "random_data = {}\n",
    "nrows = 30\n",
    "for mean, sdev in zip(means, sdevs):\n",
    "    label = 'Mean = {}, sd = {}'.format(mean, sdev)\n",
    "    random_data[label] = normal(mean, sdev, nrows)\n",
    "row_labels = ['Row {}'.format(i) for i in range(nrows)]\n",
    "dframe = DataFrame (random_data, index=row_labels)\n",
    "dframe"
   ]
  },
  {
   "cell_type": "code",
   "execution_count": 64,
   "metadata": {
    "collapsed": false
   },
   "outputs": [
    {
     "data": {
      "text/html": [
       "<div>\n",
       "<table border=\"1\" class=\"dataframe\">\n",
       "  <thead>\n",
       "    <tr style=\"text-align: right;\">\n",
       "      <th></th>\n",
       "      <th>Mean = 0, sd = 2</th>\n",
       "      <th>Mean = 1, sd = 1</th>\n",
       "      <th>Mean = 1, sd = 2</th>\n",
       "    </tr>\n",
       "  </thead>\n",
       "  <tbody>\n",
       "    <tr>\n",
       "      <th>Row 3</th>\n",
       "      <td>-0.365085</td>\n",
       "      <td>0.509255</td>\n",
       "      <td>0.667085</td>\n",
       "    </tr>\n",
       "    <tr>\n",
       "      <th>Row 4</th>\n",
       "      <td>-0.781291</td>\n",
       "      <td>2.348691</td>\n",
       "      <td>1.360299</td>\n",
       "    </tr>\n",
       "    <tr>\n",
       "      <th>Row 5</th>\n",
       "      <td>5.332068</td>\n",
       "      <td>0.614456</td>\n",
       "      <td>0.440122</td>\n",
       "    </tr>\n",
       "    <tr>\n",
       "      <th>Row 6</th>\n",
       "      <td>-0.055514</td>\n",
       "      <td>0.135722</td>\n",
       "      <td>1.675816</td>\n",
       "    </tr>\n",
       "    <tr>\n",
       "      <th>Row 7</th>\n",
       "      <td>0.007396</td>\n",
       "      <td>-0.157328</td>\n",
       "      <td>1.570037</td>\n",
       "    </tr>\n",
       "    <tr>\n",
       "      <th>Row 8</th>\n",
       "      <td>-0.497914</td>\n",
       "      <td>1.030859</td>\n",
       "      <td>0.703749</td>\n",
       "    </tr>\n",
       "    <tr>\n",
       "      <th>Row 9</th>\n",
       "      <td>-1.388874</td>\n",
       "      <td>1.271935</td>\n",
       "      <td>3.935733</td>\n",
       "    </tr>\n",
       "    <tr>\n",
       "      <th>Row 10</th>\n",
       "      <td>-0.162934</td>\n",
       "      <td>-0.868489</td>\n",
       "      <td>1.896515</td>\n",
       "    </tr>\n",
       "    <tr>\n",
       "      <th>Row 11</th>\n",
       "      <td>1.157471</td>\n",
       "      <td>0.592795</td>\n",
       "      <td>-1.459318</td>\n",
       "    </tr>\n",
       "  </tbody>\n",
       "</table>\n",
       "</div>"
      ],
      "text/plain": [
       "        Mean = 0, sd = 2  Mean = 1, sd = 1  Mean = 1, sd = 2\n",
       "Row 3          -0.365085          0.509255          0.667085\n",
       "Row 4          -0.781291          2.348691          1.360299\n",
       "Row 5           5.332068          0.614456          0.440122\n",
       "Row 6          -0.055514          0.135722          1.675816\n",
       "Row 7           0.007396         -0.157328          1.570037\n",
       "Row 8          -0.497914          1.030859          0.703749\n",
       "Row 9          -1.388874          1.271935          3.935733\n",
       "Row 10         -0.162934         -0.868489          1.896515\n",
       "Row 11          1.157471          0.592795         -1.459318"
      ]
     },
     "execution_count": 64,
     "metadata": {},
     "output_type": "execute_result"
    }
   ],
   "source": [
    "dframe_slice = dframe.ix['Row 3': 'Row 11', 5:]\n",
    "dframe_slice"
   ]
  },
  {
   "cell_type": "code",
   "execution_count": 67,
   "metadata": {
    "collapsed": false
   },
   "outputs": [
    {
     "name": "stdout",
     "output_type": "stream",
     "text": [
      "3.7030681601\n",
      "0.667085160404\n"
     ]
    }
   ],
   "source": [
    "dframe_slice.loc['Row 3', 'Mean = 1, sd = 2'] = normal(1, 2)\n",
    "print dframe_slice.loc['Row 3', 'Mean = 1, sd = 2']\n",
    "print dframe.loc['Row 3', 'Mean = 1, sd = 2']"
   ]
  },
  {
   "cell_type": "code",
   "execution_count": 68,
   "metadata": {
    "collapsed": false
   },
   "outputs": [
    {
     "data": {
      "text/html": [
       "<div>\n",
       "<table border=\"1\" class=\"dataframe\">\n",
       "  <thead>\n",
       "    <tr style=\"text-align: right;\">\n",
       "      <th></th>\n",
       "      <th>Mean = 0, sd = 2</th>\n",
       "      <th>Mean = 1, sd = 1</th>\n",
       "      <th>Mean = 1, sd = 2</th>\n",
       "    </tr>\n",
       "  </thead>\n",
       "  <tbody>\n",
       "    <tr>\n",
       "      <th>Row 3</th>\n",
       "      <td>-0.365085</td>\n",
       "      <td>0.509255</td>\n",
       "      <td>0.667085</td>\n",
       "    </tr>\n",
       "    <tr>\n",
       "      <th>Row 4</th>\n",
       "      <td>-0.781291</td>\n",
       "      <td>2.348691</td>\n",
       "      <td>1.360299</td>\n",
       "    </tr>\n",
       "    <tr>\n",
       "      <th>Row 5</th>\n",
       "      <td>5.332068</td>\n",
       "      <td>0.614456</td>\n",
       "      <td>0.440122</td>\n",
       "    </tr>\n",
       "    <tr>\n",
       "      <th>Row 6</th>\n",
       "      <td>-0.055514</td>\n",
       "      <td>0.135722</td>\n",
       "      <td>1.675816</td>\n",
       "    </tr>\n",
       "    <tr>\n",
       "      <th>Row 7</th>\n",
       "      <td>0.007396</td>\n",
       "      <td>-0.157328</td>\n",
       "      <td>1.570037</td>\n",
       "    </tr>\n",
       "    <tr>\n",
       "      <th>Row 8</th>\n",
       "      <td>-0.497914</td>\n",
       "      <td>1.030859</td>\n",
       "      <td>0.703749</td>\n",
       "    </tr>\n",
       "    <tr>\n",
       "      <th>Row 9</th>\n",
       "      <td>-1.388874</td>\n",
       "      <td>1.271935</td>\n",
       "      <td>3.935733</td>\n",
       "    </tr>\n",
       "    <tr>\n",
       "      <th>Row 10</th>\n",
       "      <td>-0.162934</td>\n",
       "      <td>-0.868489</td>\n",
       "      <td>1.896515</td>\n",
       "    </tr>\n",
       "    <tr>\n",
       "      <th>Row 11</th>\n",
       "      <td>1.157471</td>\n",
       "      <td>0.592795</td>\n",
       "      <td>-1.459318</td>\n",
       "    </tr>\n",
       "  </tbody>\n",
       "</table>\n",
       "</div>"
      ],
      "text/plain": [
       "        Mean = 0, sd = 2  Mean = 1, sd = 1  Mean = 1, sd = 2\n",
       "Row 3          -0.365085          0.509255          0.667085\n",
       "Row 4          -0.781291          2.348691          1.360299\n",
       "Row 5           5.332068          0.614456          0.440122\n",
       "Row 6          -0.055514          0.135722          1.675816\n",
       "Row 7           0.007396         -0.157328          1.570037\n",
       "Row 8          -0.497914          1.030859          0.703749\n",
       "Row 9          -1.388874          1.271935          3.935733\n",
       "Row 10         -0.162934         -0.868489          1.896515\n",
       "Row 11          1.157471          0.592795         -1.459318"
      ]
     },
     "execution_count": 68,
     "metadata": {},
     "output_type": "execute_result"
    }
   ],
   "source": [
    "dframe_slice_copy = dframe.ix['Row 3':'Row 11', 5:].copy()\n",
    "dframe_slice_copy"
   ]
  },
  {
   "cell_type": "code",
   "execution_count": 70,
   "metadata": {
    "collapsed": false
   },
   "outputs": [
    {
     "name": "stdout",
     "output_type": "stream",
     "text": [
      "0.734742621608\n",
      "0.667085160404\n"
     ]
    }
   ],
   "source": [
    "dframe_slice_copy.loc['Row 3','Mean = 1, sd = 2'] = normal(1, 2)\n",
    "print dframe_slice_copy.loc['Row 3','Mean = 1, sd = 2']\n",
    "print dframe.loc['Row 3','Mean = 1, sd = 2']"
   ]
  },
  {
   "cell_type": "markdown",
   "metadata": {},
   "source": [
    "# 3. Computational and Graphics tools"
   ]
  },
  {
   "cell_type": "code",
   "execution_count": 75,
   "metadata": {
    "collapsed": false
   },
   "outputs": [
    {
     "data": {
      "text/plain": [
       "Mean = -1, sd = 1   -1.098333\n",
       "Mean = -1, sd = 2   -1.172654\n",
       "Mean = -2, sd = 1   -1.951305\n",
       "Mean = -2, sd = 2   -2.472679\n",
       "Mean = 0, sd = 1    -0.367476\n",
       "Mean = 0, sd = 2     0.398435\n",
       "Mean = 1, sd = 1     0.689693\n",
       "Mean = 1, sd = 2     1.073404\n",
       "dtype: float64"
      ]
     },
     "execution_count": 75,
     "metadata": {},
     "output_type": "execute_result"
    }
   ],
   "source": [
    "mean_series = dframe.mean()\n",
    "mean_series"
   ]
  },
  {
   "cell_type": "code",
   "execution_count": 76,
   "metadata": {
    "collapsed": false
   },
   "outputs": [
    {
     "data": {
      "text/plain": [
       "Mean = -1, sd = 1    0.920523\n",
       "Mean = -1, sd = 2    1.695435\n",
       "Mean = -2, sd = 1    1.017222\n",
       "Mean = -2, sd = 2    1.645836\n",
       "Mean = 0, sd = 1     1.003919\n",
       "Mean = 0, sd = 2     1.966350\n",
       "Mean = 1, sd = 1     0.895219\n",
       "Mean = 1, sd = 2     1.437256\n",
       "dtype: float64"
      ]
     },
     "execution_count": 76,
     "metadata": {},
     "output_type": "execute_result"
    }
   ],
   "source": [
    "std_series = dframe.std()\n",
    "std_series"
   ]
  },
  {
   "cell_type": "code",
   "execution_count": 78,
   "metadata": {
    "collapsed": false
   },
   "outputs": [
    {
     "data": {
      "text/html": [
       "<div>\n",
       "<table border=\"1\" class=\"dataframe\">\n",
       "  <thead>\n",
       "    <tr style=\"text-align: right;\">\n",
       "      <th></th>\n",
       "      <th>Mean = -1, sd = 1</th>\n",
       "      <th>Mean = -1, sd = 2</th>\n",
       "      <th>Mean = -2, sd = 1</th>\n",
       "      <th>Mean = -2, sd = 2</th>\n",
       "      <th>Mean = 0, sd = 1</th>\n",
       "      <th>Mean = 0, sd = 2</th>\n",
       "      <th>Mean = 1, sd = 1</th>\n",
       "      <th>Mean = 1, sd = 2</th>\n",
       "    </tr>\n",
       "  </thead>\n",
       "  <tbody>\n",
       "    <tr>\n",
       "      <th>mean</th>\n",
       "      <td>-1.098333</td>\n",
       "      <td>-1.172654</td>\n",
       "      <td>-1.951305</td>\n",
       "      <td>-2.472679</td>\n",
       "      <td>-0.367476</td>\n",
       "      <td>0.398435</td>\n",
       "      <td>0.689693</td>\n",
       "      <td>1.073404</td>\n",
       "    </tr>\n",
       "    <tr>\n",
       "      <th>std</th>\n",
       "      <td>0.920523</td>\n",
       "      <td>1.695435</td>\n",
       "      <td>1.017222</td>\n",
       "      <td>1.645836</td>\n",
       "      <td>1.003919</td>\n",
       "      <td>1.966350</td>\n",
       "      <td>0.895219</td>\n",
       "      <td>1.437256</td>\n",
       "    </tr>\n",
       "  </tbody>\n",
       "</table>\n",
       "</div>"
      ],
      "text/plain": [
       "      Mean = -1, sd = 1  Mean = -1, sd = 2  Mean = -2, sd = 1  \\\n",
       "mean          -1.098333          -1.172654          -1.951305   \n",
       "std            0.920523           1.695435           1.017222   \n",
       "\n",
       "      Mean = -2, sd = 2  Mean = 0, sd = 1  Mean = 0, sd = 2  Mean = 1, sd = 1  \\\n",
       "mean          -2.472679         -0.367476          0.398435          0.689693   \n",
       "std            1.645836          1.003919          1.966350          0.895219   \n",
       "\n",
       "      Mean = 1, sd = 2  \n",
       "mean          1.073404  \n",
       "std           1.437256  "
      ]
     },
     "execution_count": 78,
     "metadata": {},
     "output_type": "execute_result"
    }
   ],
   "source": [
    "mean_std = DataFrame([dict(mean_series), dict(std_series)], index=['mean', 'std'])\n",
    "mean_std"
   ]
  },
  {
   "cell_type": "code",
   "execution_count": 79,
   "metadata": {
    "collapsed": false
   },
   "outputs": [
    {
     "data": {
      "text/html": [
       "<div>\n",
       "<table border=\"1\" class=\"dataframe\">\n",
       "  <thead>\n",
       "    <tr style=\"text-align: right;\">\n",
       "      <th></th>\n",
       "      <th>Mean = -1, sd = 1</th>\n",
       "      <th>Mean = -1, sd = 2</th>\n",
       "      <th>Mean = -2, sd = 1</th>\n",
       "      <th>Mean = -2, sd = 2</th>\n",
       "      <th>Mean = 0, sd = 1</th>\n",
       "      <th>Mean = 0, sd = 2</th>\n",
       "      <th>Mean = 1, sd = 1</th>\n",
       "      <th>Mean = 1, sd = 2</th>\n",
       "    </tr>\n",
       "  </thead>\n",
       "  <tbody>\n",
       "    <tr>\n",
       "      <th>Row 0</th>\n",
       "      <td>63.216648</td>\n",
       "      <td>129.870044</td>\n",
       "      <td>143.667751</td>\n",
       "      <td>99.055917</td>\n",
       "      <td>117.775332</td>\n",
       "      <td>107.468151</td>\n",
       "      <td>63.185932</td>\n",
       "      <td>143.870392</td>\n",
       "    </tr>\n",
       "    <tr>\n",
       "      <th>Row 1</th>\n",
       "      <td>101.155442</td>\n",
       "      <td>98.138441</td>\n",
       "      <td>116.830317</td>\n",
       "      <td>90.060110</td>\n",
       "      <td>89.761618</td>\n",
       "      <td>79.012111</td>\n",
       "      <td>64.449714</td>\n",
       "      <td>108.443108</td>\n",
       "    </tr>\n",
       "    <tr>\n",
       "      <th>Row 2</th>\n",
       "      <td>82.166475</td>\n",
       "      <td>99.947086</td>\n",
       "      <td>117.372674</td>\n",
       "      <td>88.787501</td>\n",
       "      <td>77.709471</td>\n",
       "      <td>113.815494</td>\n",
       "      <td>123.178129</td>\n",
       "      <td>96.564785</td>\n",
       "    </tr>\n",
       "    <tr>\n",
       "      <th>Row 3</th>\n",
       "      <td>132.075348</td>\n",
       "      <td>113.665221</td>\n",
       "      <td>93.870399</td>\n",
       "      <td>77.983412</td>\n",
       "      <td>107.312932</td>\n",
       "      <td>92.234133</td>\n",
       "      <td>95.968851</td>\n",
       "      <td>94.345907</td>\n",
       "    </tr>\n",
       "    <tr>\n",
       "      <th>Row 4</th>\n",
       "      <td>121.405557</td>\n",
       "      <td>78.826207</td>\n",
       "      <td>91.121218</td>\n",
       "      <td>106.531707</td>\n",
       "      <td>113.430279</td>\n",
       "      <td>88.000854</td>\n",
       "      <td>137.063512</td>\n",
       "      <td>103.992263</td>\n",
       "    </tr>\n",
       "    <tr>\n",
       "      <th>Row 5</th>\n",
       "      <td>93.007126</td>\n",
       "      <td>99.629923</td>\n",
       "      <td>98.514423</td>\n",
       "      <td>134.450800</td>\n",
       "      <td>117.208769</td>\n",
       "      <td>150.180628</td>\n",
       "      <td>98.319134</td>\n",
       "      <td>91.187619</td>\n",
       "    </tr>\n",
       "    <tr>\n",
       "      <th>Row 6</th>\n",
       "      <td>105.670623</td>\n",
       "      <td>73.492732</td>\n",
       "      <td>107.007761</td>\n",
       "      <td>86.763700</td>\n",
       "      <td>131.270533</td>\n",
       "      <td>95.382825</td>\n",
       "      <td>87.623780</td>\n",
       "      <td>108.382810</td>\n",
       "    </tr>\n",
       "    <tr>\n",
       "      <th>Row 7</th>\n",
       "      <td>116.057940</td>\n",
       "      <td>54.908799</td>\n",
       "      <td>112.845801</td>\n",
       "      <td>141.187775</td>\n",
       "      <td>93.821028</td>\n",
       "      <td>96.022686</td>\n",
       "      <td>81.076775</td>\n",
       "      <td>106.910853</td>\n",
       "    </tr>\n",
       "    <tr>\n",
       "      <th>Row 8</th>\n",
       "      <td>111.276148</td>\n",
       "      <td>95.950731</td>\n",
       "      <td>112.708898</td>\n",
       "      <td>97.724005</td>\n",
       "      <td>154.286988</td>\n",
       "      <td>90.883119</td>\n",
       "      <td>107.621962</td>\n",
       "      <td>94.856099</td>\n",
       "    </tr>\n",
       "    <tr>\n",
       "      <th>Row 9</th>\n",
       "      <td>83.322840</td>\n",
       "      <td>143.776325</td>\n",
       "      <td>94.222640</td>\n",
       "      <td>93.093842</td>\n",
       "      <td>89.107025</td>\n",
       "      <td>81.821043</td>\n",
       "      <td>113.007800</td>\n",
       "      <td>139.830478</td>\n",
       "    </tr>\n",
       "    <tr>\n",
       "      <th>Row 10</th>\n",
       "      <td>107.474604</td>\n",
       "      <td>126.359190</td>\n",
       "      <td>92.781829</td>\n",
       "      <td>103.397194</td>\n",
       "      <td>107.072606</td>\n",
       "      <td>94.290241</td>\n",
       "      <td>65.188804</td>\n",
       "      <td>111.453919</td>\n",
       "    </tr>\n",
       "    <tr>\n",
       "      <th>Row 11</th>\n",
       "      <td>98.700848</td>\n",
       "      <td>108.012697</td>\n",
       "      <td>71.931327</td>\n",
       "      <td>123.566068</td>\n",
       "      <td>70.804541</td>\n",
       "      <td>107.720252</td>\n",
       "      <td>97.835196</td>\n",
       "      <td>64.756145</td>\n",
       "    </tr>\n",
       "    <tr>\n",
       "      <th>Row 12</th>\n",
       "      <td>71.804358</td>\n",
       "      <td>104.996758</td>\n",
       "      <td>82.217679</td>\n",
       "      <td>111.674624</td>\n",
       "      <td>78.217213</td>\n",
       "      <td>90.121704</td>\n",
       "      <td>100.664923</td>\n",
       "      <td>120.433603</td>\n",
       "    </tr>\n",
       "    <tr>\n",
       "      <th>Row 13</th>\n",
       "      <td>91.581598</td>\n",
       "      <td>103.467300</td>\n",
       "      <td>116.486184</td>\n",
       "      <td>98.961641</td>\n",
       "      <td>120.241498</td>\n",
       "      <td>106.706564</td>\n",
       "      <td>106.516682</td>\n",
       "      <td>81.398592</td>\n",
       "    </tr>\n",
       "    <tr>\n",
       "      <th>Row 14</th>\n",
       "      <td>132.356780</td>\n",
       "      <td>97.741510</td>\n",
       "      <td>88.185983</td>\n",
       "      <td>107.546602</td>\n",
       "      <td>89.563465</td>\n",
       "      <td>127.113837</td>\n",
       "      <td>81.502362</td>\n",
       "      <td>107.793741</td>\n",
       "    </tr>\n",
       "    <tr>\n",
       "      <th>Row 15</th>\n",
       "      <td>78.917465</td>\n",
       "      <td>116.177994</td>\n",
       "      <td>84.169263</td>\n",
       "      <td>98.631028</td>\n",
       "      <td>106.369969</td>\n",
       "      <td>98.623377</td>\n",
       "      <td>106.953628</td>\n",
       "      <td>108.249262</td>\n",
       "    </tr>\n",
       "    <tr>\n",
       "      <th>Row 16</th>\n",
       "      <td>111.312996</td>\n",
       "      <td>131.506558</td>\n",
       "      <td>86.651298</td>\n",
       "      <td>131.023430</td>\n",
       "      <td>97.946490</td>\n",
       "      <td>91.139073</td>\n",
       "      <td>91.365188</td>\n",
       "      <td>94.069906</td>\n",
       "    </tr>\n",
       "    <tr>\n",
       "      <th>Row 17</th>\n",
       "      <td>146.910089</td>\n",
       "      <td>127.678403</td>\n",
       "      <td>96.044670</td>\n",
       "      <td>67.644678</td>\n",
       "      <td>84.585558</td>\n",
       "      <td>81.909087</td>\n",
       "      <td>74.729064</td>\n",
       "      <td>97.721899</td>\n",
       "    </tr>\n",
       "    <tr>\n",
       "      <th>Row 18</th>\n",
       "      <td>110.550479</td>\n",
       "      <td>83.947588</td>\n",
       "      <td>58.470710</td>\n",
       "      <td>79.147088</td>\n",
       "      <td>99.424407</td>\n",
       "      <td>131.815595</td>\n",
       "      <td>84.732605</td>\n",
       "      <td>111.796213</td>\n",
       "    </tr>\n",
       "    <tr>\n",
       "      <th>Row 19</th>\n",
       "      <td>78.963948</td>\n",
       "      <td>88.118088</td>\n",
       "      <td>74.638809</td>\n",
       "      <td>78.031217</td>\n",
       "      <td>84.731683</td>\n",
       "      <td>125.874880</td>\n",
       "      <td>95.921121</td>\n",
       "      <td>118.601807</td>\n",
       "    </tr>\n",
       "    <tr>\n",
       "      <th>Row 20</th>\n",
       "      <td>90.212073</td>\n",
       "      <td>93.680695</td>\n",
       "      <td>129.505562</td>\n",
       "      <td>58.528203</td>\n",
       "      <td>77.182423</td>\n",
       "      <td>102.143886</td>\n",
       "      <td>99.015355</td>\n",
       "      <td>96.948577</td>\n",
       "    </tr>\n",
       "    <tr>\n",
       "      <th>Row 21</th>\n",
       "      <td>92.273844</td>\n",
       "      <td>96.276079</td>\n",
       "      <td>113.823406</td>\n",
       "      <td>86.014931</td>\n",
       "      <td>85.284935</td>\n",
       "      <td>71.686725</td>\n",
       "      <td>103.639617</td>\n",
       "      <td>97.122800</td>\n",
       "    </tr>\n",
       "    <tr>\n",
       "      <th>Row 22</th>\n",
       "      <td>110.094004</td>\n",
       "      <td>82.054629</td>\n",
       "      <td>113.496431</td>\n",
       "      <td>106.660669</td>\n",
       "      <td>69.135441</td>\n",
       "      <td>113.910055</td>\n",
       "      <td>115.027195</td>\n",
       "      <td>114.636034</td>\n",
       "    </tr>\n",
       "    <tr>\n",
       "      <th>Row 23</th>\n",
       "      <td>72.087388</td>\n",
       "      <td>89.404178</td>\n",
       "      <td>65.501402</td>\n",
       "      <td>109.505992</td>\n",
       "      <td>97.125353</td>\n",
       "      <td>76.603714</td>\n",
       "      <td>88.234572</td>\n",
       "      <td>77.801810</td>\n",
       "    </tr>\n",
       "    <tr>\n",
       "      <th>Row 24</th>\n",
       "      <td>92.965053</td>\n",
       "      <td>104.453109</td>\n",
       "      <td>116.927535</td>\n",
       "      <td>90.435850</td>\n",
       "      <td>98.280814</td>\n",
       "      <td>86.528276</td>\n",
       "      <td>129.508966</td>\n",
       "      <td>62.019789</td>\n",
       "    </tr>\n",
       "    <tr>\n",
       "      <th>Row 25</th>\n",
       "      <td>89.464747</td>\n",
       "      <td>93.290650</td>\n",
       "      <td>126.894085</td>\n",
       "      <td>107.753058</td>\n",
       "      <td>128.512779</td>\n",
       "      <td>58.302698</td>\n",
       "      <td>130.667063</td>\n",
       "      <td>82.601107</td>\n",
       "    </tr>\n",
       "    <tr>\n",
       "      <th>Row 26</th>\n",
       "      <td>132.969104</td>\n",
       "      <td>63.846262</td>\n",
       "      <td>103.615778</td>\n",
       "      <td>118.215964</td>\n",
       "      <td>112.307614</td>\n",
       "      <td>115.649572</td>\n",
       "      <td>111.882775</td>\n",
       "      <td>60.044040</td>\n",
       "    </tr>\n",
       "    <tr>\n",
       "      <th>Row 27</th>\n",
       "      <td>96.187668</td>\n",
       "      <td>114.516517</td>\n",
       "      <td>112.477345</td>\n",
       "      <td>130.811216</td>\n",
       "      <td>118.504136</td>\n",
       "      <td>101.557775</td>\n",
       "      <td>127.710718</td>\n",
       "      <td>116.534104</td>\n",
       "    </tr>\n",
       "    <tr>\n",
       "      <th>Row 28</th>\n",
       "      <td>93.175816</td>\n",
       "      <td>95.868414</td>\n",
       "      <td>102.170621</td>\n",
       "      <td>100.533004</td>\n",
       "      <td>75.586666</td>\n",
       "      <td>130.316379</td>\n",
       "      <td>93.717976</td>\n",
       "      <td>110.071492</td>\n",
       "    </tr>\n",
       "    <tr>\n",
       "      <th>Row 29</th>\n",
       "      <td>92.642994</td>\n",
       "      <td>90.397870</td>\n",
       "      <td>75.848200</td>\n",
       "      <td>76.278776</td>\n",
       "      <td>107.438436</td>\n",
       "      <td>93.165264</td>\n",
       "      <td>123.690601</td>\n",
       "      <td>77.560846</td>\n",
       "    </tr>\n",
       "  </tbody>\n",
       "</table>\n",
       "</div>"
      ],
      "text/plain": [
       "        Mean = -1, sd = 1  Mean = -1, sd = 2  Mean = -2, sd = 1  \\\n",
       "Row 0           63.216648         129.870044         143.667751   \n",
       "Row 1          101.155442          98.138441         116.830317   \n",
       "Row 2           82.166475          99.947086         117.372674   \n",
       "Row 3          132.075348         113.665221          93.870399   \n",
       "Row 4          121.405557          78.826207          91.121218   \n",
       "Row 5           93.007126          99.629923          98.514423   \n",
       "Row 6          105.670623          73.492732         107.007761   \n",
       "Row 7          116.057940          54.908799         112.845801   \n",
       "Row 8          111.276148          95.950731         112.708898   \n",
       "Row 9           83.322840         143.776325          94.222640   \n",
       "Row 10         107.474604         126.359190          92.781829   \n",
       "Row 11          98.700848         108.012697          71.931327   \n",
       "Row 12          71.804358         104.996758          82.217679   \n",
       "Row 13          91.581598         103.467300         116.486184   \n",
       "Row 14         132.356780          97.741510          88.185983   \n",
       "Row 15          78.917465         116.177994          84.169263   \n",
       "Row 16         111.312996         131.506558          86.651298   \n",
       "Row 17         146.910089         127.678403          96.044670   \n",
       "Row 18         110.550479          83.947588          58.470710   \n",
       "Row 19          78.963948          88.118088          74.638809   \n",
       "Row 20          90.212073          93.680695         129.505562   \n",
       "Row 21          92.273844          96.276079         113.823406   \n",
       "Row 22         110.094004          82.054629         113.496431   \n",
       "Row 23          72.087388          89.404178          65.501402   \n",
       "Row 24          92.965053         104.453109         116.927535   \n",
       "Row 25          89.464747          93.290650         126.894085   \n",
       "Row 26         132.969104          63.846262         103.615778   \n",
       "Row 27          96.187668         114.516517         112.477345   \n",
       "Row 28          93.175816          95.868414         102.170621   \n",
       "Row 29          92.642994          90.397870          75.848200   \n",
       "\n",
       "        Mean = -2, sd = 2  Mean = 0, sd = 1  Mean = 0, sd = 2  \\\n",
       "Row 0           99.055917        117.775332        107.468151   \n",
       "Row 1           90.060110         89.761618         79.012111   \n",
       "Row 2           88.787501         77.709471        113.815494   \n",
       "Row 3           77.983412        107.312932         92.234133   \n",
       "Row 4          106.531707        113.430279         88.000854   \n",
       "Row 5          134.450800        117.208769        150.180628   \n",
       "Row 6           86.763700        131.270533         95.382825   \n",
       "Row 7          141.187775         93.821028         96.022686   \n",
       "Row 8           97.724005        154.286988         90.883119   \n",
       "Row 9           93.093842         89.107025         81.821043   \n",
       "Row 10         103.397194        107.072606         94.290241   \n",
       "Row 11         123.566068         70.804541        107.720252   \n",
       "Row 12         111.674624         78.217213         90.121704   \n",
       "Row 13          98.961641        120.241498        106.706564   \n",
       "Row 14         107.546602         89.563465        127.113837   \n",
       "Row 15          98.631028        106.369969         98.623377   \n",
       "Row 16         131.023430         97.946490         91.139073   \n",
       "Row 17          67.644678         84.585558         81.909087   \n",
       "Row 18          79.147088         99.424407        131.815595   \n",
       "Row 19          78.031217         84.731683        125.874880   \n",
       "Row 20          58.528203         77.182423        102.143886   \n",
       "Row 21          86.014931         85.284935         71.686725   \n",
       "Row 22         106.660669         69.135441        113.910055   \n",
       "Row 23         109.505992         97.125353         76.603714   \n",
       "Row 24          90.435850         98.280814         86.528276   \n",
       "Row 25         107.753058        128.512779         58.302698   \n",
       "Row 26         118.215964        112.307614        115.649572   \n",
       "Row 27         130.811216        118.504136        101.557775   \n",
       "Row 28         100.533004         75.586666        130.316379   \n",
       "Row 29          76.278776        107.438436         93.165264   \n",
       "\n",
       "        Mean = 1, sd = 1  Mean = 1, sd = 2  \n",
       "Row 0          63.185932        143.870392  \n",
       "Row 1          64.449714        108.443108  \n",
       "Row 2         123.178129         96.564785  \n",
       "Row 3          95.968851         94.345907  \n",
       "Row 4         137.063512        103.992263  \n",
       "Row 5          98.319134         91.187619  \n",
       "Row 6          87.623780        108.382810  \n",
       "Row 7          81.076775        106.910853  \n",
       "Row 8         107.621962         94.856099  \n",
       "Row 9         113.007800        139.830478  \n",
       "Row 10         65.188804        111.453919  \n",
       "Row 11         97.835196         64.756145  \n",
       "Row 12        100.664923        120.433603  \n",
       "Row 13        106.516682         81.398592  \n",
       "Row 14         81.502362        107.793741  \n",
       "Row 15        106.953628        108.249262  \n",
       "Row 16         91.365188         94.069906  \n",
       "Row 17         74.729064         97.721899  \n",
       "Row 18         84.732605        111.796213  \n",
       "Row 19         95.921121        118.601807  \n",
       "Row 20         99.015355         96.948577  \n",
       "Row 21        103.639617         97.122800  \n",
       "Row 22        115.027195        114.636034  \n",
       "Row 23         88.234572         77.801810  \n",
       "Row 24        129.508966         62.019789  \n",
       "Row 25        130.667063         82.601107  \n",
       "Row 26        111.882775         60.044040  \n",
       "Row 27        127.710718        116.534104  \n",
       "Row 28         93.717976        110.071492  \n",
       "Row 29        123.690601         77.560846  "
      ]
     },
     "execution_count": 79,
     "metadata": {},
     "output_type": "execute_result"
    }
   ],
   "source": [
    "# to standardize the data in all columns so that they all have a \n",
    "# common mean value 100 and standard deviation value 20.\n",
    "\n",
    "dframe_stnd = 100 + 20 *(dframe - mean_std.iloc[0, :]) / mean_std.iloc[1,:]\n",
    "dframe_stnd"
   ]
  },
  {
   "cell_type": "code",
   "execution_count": 80,
   "metadata": {
    "collapsed": false
   },
   "outputs": [
    {
     "name": "stdout",
     "output_type": "stream",
     "text": [
      "Mean = -1, sd = 1    100.0\n",
      "Mean = -1, sd = 2    100.0\n",
      "Mean = -2, sd = 1    100.0\n",
      "Mean = -2, sd = 2    100.0\n",
      "Mean = 0, sd = 1     100.0\n",
      "Mean = 0, sd = 2     100.0\n",
      "Mean = 1, sd = 1     100.0\n",
      "Mean = 1, sd = 2     100.0\n",
      "dtype: float64\n",
      "Mean = -1, sd = 1    20.0\n",
      "Mean = -1, sd = 2    20.0\n",
      "Mean = -2, sd = 1    20.0\n",
      "Mean = -2, sd = 2    20.0\n",
      "Mean = 0, sd = 1     20.0\n",
      "Mean = 0, sd = 2     20.0\n",
      "Mean = 1, sd = 1     20.0\n",
      "Mean = 1, sd = 2     20.0\n",
      "dtype: float64\n"
     ]
    }
   ],
   "source": [
    "# To check that we get the expected results\n",
    "print dframe_stnd.mean()\n",
    "print dframe_stnd.std()"
   ]
  },
  {
   "cell_type": "code",
   "execution_count": 81,
   "metadata": {
    "collapsed": false
   },
   "outputs": [
    {
     "data": {
      "text/plain": [
       "Mean = -1, sd = 1    -6.535213\n",
       "Mean = -1, sd = 2    -3.788342\n",
       "Mean = -2, sd = 1   -10.506790\n",
       "Mean = -2, sd = 2    -8.228897\n",
       "Mean = 0, sd = 1     -2.004894\n",
       "Mean = 0, sd = 2      1.109833\n",
       "Mean = 1, sd = 1      4.219755\n",
       "Mean = 1, sd = 2      4.090626\n",
       "dtype: float64"
      ]
     },
     "execution_count": 81,
     "metadata": {},
     "output_type": "execute_result"
    }
   ],
   "source": [
    "zscores = mean_std.iloc[0, :] / (mean_std.iloc[1,:] / sqrt (len(dframe)))\n",
    "zscores"
   ]
  },
  {
   "cell_type": "code",
   "execution_count": 83,
   "metadata": {
    "collapsed": false
   },
   "outputs": [
    {
     "data": {
      "text/plain": [
       "Mean = -1, sd = 1    6.351892e-09\n",
       "Mean = -1, sd = 2    1.516562e-02\n",
       "Mean = -2, sd = 1    8.038294e-24\n",
       "Mean = -2, sd = 2    1.889451e-14\n",
       "Mean = 0, sd = 1     4.497443e+00\n",
       "Mean = 0, sd = 2     2.670711e+01\n",
       "Mean = 1, sd = 1     2.445674e-03\n",
       "Mean = 1, sd = 2     4.302098e-03\n",
       "dtype: float64"
      ]
     },
     "execution_count": 83,
     "metadata": {},
     "output_type": "execute_result"
    }
   ],
   "source": [
    "from scipy.stats import norm\n",
    "pvalues = 2 * norm.cdf(-abs(zscores)) * 100\n",
    "pvalues_series = Series(pvalues, index = zscores.index)\n",
    "pvalues_series"
   ]
  },
  {
   "cell_type": "code",
   "execution_count": 85,
   "metadata": {
    "collapsed": false
   },
   "outputs": [
    {
     "name": "stdout",
     "output_type": "stream",
     "text": [
      "Populating the interactive namespace from numpy and matplotlib\n"
     ]
    }
   ],
   "source": [
    "%pylab inline"
   ]
  },
  {
   "cell_type": "code",
   "execution_count": 92,
   "metadata": {
    "collapsed": false
   },
   "outputs": [
    {
     "data": {
      "image/png": "[encoded data removed]",
      "text/plain": [
       "<matplotlib.figure.Figure at 0xb174450>"
      ]
     },
     "metadata": {},
     "output_type": "display_data"
    }
   ],
   "source": [
    "dframe.hist(color='DarkCyan')\n",
    "subplots_adjust(left = 0.5, right = 2, top = 2.5, bottom = 1.0)\n",
    "dframe.loc[:, 'Mean = 0, sd = 2'].hist(bins = 40, range = (-10, 10), color='LightYellow')\n",
    "title('Normal variates, mean 0, standard deviation 2')\n",
    "None"
   ]
  },
  {
   "cell_type": "markdown",
   "metadata": {},
   "source": [
    "**Geometrical Brownian Motion**"
   ]
  },
  {
   "cell_type": "code",
   "execution_count": 94,
   "metadata": {
    "collapsed": true
   },
   "outputs": [],
   "source": [
    "mu = 0.15\n",
    "sigma = 0.33\n",
    "S0 = 150"
   ]
  },
  {
   "cell_type": "code",
   "execution_count": 95,
   "metadata": {
    "collapsed": true
   },
   "outputs": [],
   "source": [
    "nsteps = 200\n",
    "tmax = 20.\n",
    "dt = tmax / nsteps\n",
    "times = arange(0, tmax, dt)"
   ]
  },
  {
   "cell_type": "code",
   "execution_count": 96,
   "metadata": {
    "collapsed": true
   },
   "outputs": [],
   "source": [
    "gbm_data = DataFrame(times, columns=['t'], index=range(nsteps))"
   ]
  },
  {
   "cell_type": "code",
   "execution_count": 1,
   "metadata": {
    "collapsed": false
   },
   "outputs": [
    {
     "ename": "NameError",
     "evalue": "name 'gbm_data' is not defined",
     "traceback": [
      "\u001b[1;31m---------------------------------------------------------------------------\u001b[0m",
      "\u001b[1;31mNameError\u001b[0m                                 Traceback (most recent call last)",
      "\u001b[1;32m<ipython-input-1-0abd9eee1b51>\u001b[0m in \u001b[0;36m<module>\u001b[1;34m()\u001b[0m\n\u001b[1;32m----> 1\u001b[1;33m \u001b[0mgbm_data\u001b[0m\u001b[1;33m.\u001b[0m\u001b[0mloc\u001b[0m\u001b[1;33m[\u001b[0m\u001b[1;33m:\u001b[0m \u001b[1;36m5\u001b[0m\u001b[1;33m,\u001b[0m \u001b[1;33m:\u001b[0m\u001b[1;33m]\u001b[0m\u001b[1;33m\u001b[0m\u001b[0m\n\u001b[0m",
      "\u001b[1;31mNameError\u001b[0m: name 'gbm_data' is not defined"
     ],
     "output_type": "error"
    }
   ],
   "source": [
    "gbm_data.loc[: 5, :]"
   ]
  },
  {
   "cell_type": "code",
   "execution_count": 98,
   "metadata": {
    "collapsed": true
   },
   "outputs": [],
   "source": [
    "gbm_data['drift'] = (mu - sigma ** 2 / 2) * gbm_data.loc[:, 't']"
   ]
  },
  {
   "cell_type": "code",
   "execution_count": 99,
   "metadata": {
    "collapsed": true
   },
   "outputs": [],
   "source": [
    "gbm_data['dW'] = normal(0.0, sigma * dt, nsteps)\n",
    "gbm_data['W'] = gbm_data.loc[:, 'dW'].cumsum()\n",
    "gbm_data.ix[0, 'W'] = 0.0"
   ]
  },
  {
   "cell_type": "code",
   "execution_count": 100,
   "metadata": {
    "collapsed": true
   },
   "outputs": [],
   "source": [
    "gbm_data['S'] = S0 * exp(gbm_data.loc[:, 'drift'] + gbm_data.loc[:, 'W'])"
   ]
  },
  {
   "cell_type": "code",
   "execution_count": 101,
   "metadata": {
    "collapsed": false
   },
   "outputs": [
    {
     "data": {
      "text/plain": [
       "<matplotlib.axes._subplots.AxesSubplot at 0x8758d70>"
      ]
     },
     "execution_count": 101,
     "metadata": {},
     "output_type": "execute_result"
    },
    {
     "data": {
      "image/png": "[encoded data removed]",
      "text/plain": [
       "<matplotlib.figure.Figure at 0xb878210>"
      ]
     },
     "metadata": {},
     "output_type": "display_data"
    }
   ],
   "source": [
    "gbm_data.plot(x='t', y='S', lw=2, color='green',\n",
    "             title='Geometric Brownian Motion')"
   ]
  },
  {
   "cell_type": "markdown",
   "metadata": {},
   "source": [
    "# 4. An example with a realistic dataset"
   ]
  },
  {
   "cell_type": "code",
   "execution_count": null,
   "metadata": {
    "collapsed": true
   },
   "outputs": [],
   "source": [
    ""
   ]
  }
 ],
 "metadata": {
  "kernelspec": {
   "display_name": "Python 2",
   "language": "python",
   "name": "python2"
  },
  "language_info": {
   "codemirror_mode": {
    "name": "ipython",
    "version": 2.0
   },
   "file_extension": ".py",
   "mimetype": "text/x-python",
   "name": "python",
   "nbconvert_exporter": "python",
   "pygments_lexer": "ipython2",
   "version": "2.7.11"
  }
 },
 "nbformat": 4,
 "nbformat_minor": 0
}