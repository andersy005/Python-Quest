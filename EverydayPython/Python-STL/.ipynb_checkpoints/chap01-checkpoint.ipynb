{
 "cells": [
  {
   "cell_type": "markdown",
   "metadata": {},
   "source": [
    "## String module\n",
    "\n",
    "### 1. Functions"
   ]
  },
  {
   "cell_type": "code",
   "execution_count": 1,
   "metadata": {
    "collapsed": true
   },
   "outputs": [],
   "source": [
    "import string\n"
   ]
  },
  {
   "cell_type": "markdown",
   "metadata": {},
   "source": [
    "**Using capwords() is the same as calling split(), capitalizing the words in the resulting list, and then calling join() to combine the results **"
   ]
  },
  {
   "cell_type": "code",
   "execution_count": 2,
   "metadata": {
    "collapsed": false
   },
   "outputs": [
    {
     "name": "stdout",
     "output_type": "stream",
     "text": [
      "The School has been upgraded from college to University.\n",
      "The School Has Been Upgraded From College To University.\n"
     ]
    }
   ],
   "source": [
    "s = 'The School has been upgraded from college to University.'\n",
    "print s\n",
    "print string.capwords(s)"
   ]
  },
  {
   "cell_type": "code",
   "execution_count": 3,
   "metadata": {
    "collapsed": false
   },
   "outputs": [
    {
     "name": "stdout",
     "output_type": "stream",
     "text": [
      "The School Has Been Upgraded From College To University.\n"
     ]
    }
   ],
   "source": [
    "s = s.split()\n",
    "s = [word.capitalize() for word in s]\n",
    "print \" \".join(s)"
   ]
  },
  {
   "cell_type": "markdown",
   "metadata": {},
   "source": [
    "**maketrans( ) creates translation tables that can be used with the translate ( ) method to change one set of characters to another more efficiently than with repeated calls to replace ( )**"
   ]
  },
  {
   "cell_type": "code",
   "execution_count": 5,
   "metadata": {
    "collapsed": false
   },
   "outputs": [
    {
     "name": "stdout",
     "output_type": "stream",
     "text": [
      "The School has been upgraded from college to University.\n",
      "Th8 Schoo8 h4s 588n up694787 39om co88868 to Univ89sity.\n"
     ]
    }
   ],
   "source": [
    "leet = string.maketrans('abgerdlkfjl', '45689712358')\n",
    "s = 'The School has been upgraded from college to University.'\n",
    "\n",
    "print s\n",
    "print s.translate(leet)"
   ]
  },
  {
   "cell_type": "markdown",
   "metadata": {},
   "source": [
    "### 2. Templates"
   ]
  },
  {
   "cell_type": "code",
   "execution_count": 6,
   "metadata": {
    "collapsed": true
   },
   "outputs": [],
   "source": [
    "values = {'var':'foo'}\n"
   ]
  },
  {
   "cell_type": "code",
   "execution_count": 11,
   "metadata": {
    "collapsed": false
   },
   "outputs": [
    {
     "name": "stdout",
     "output_type": "stream",
     "text": [
      "Template: \n",
      "                    variable        :foo\n",
      "                    Escape          :$\n",
      "                    variable in text:fooiable \n",
      "                    \n"
     ]
    }
   ],
   "source": [
    "t = string.Template(\"\"\"\n",
    "                    variable        :$var\n",
    "                    Escape          :$$\n",
    "                    variable in text:${var}iable \n",
    "                    \"\"\")\n",
    "print 'Template:', t.substitute(values)"
   ]
  },
  {
   "cell_type": "code",
   "execution_count": null,
   "metadata": {
    "collapsed": true
   },
   "outputs": [],
   "source": [
    "s = \"\"\"\n",
    "        variable        :%(var\n",
    "        Escape          :$$\n",
    "        variable in text:${var}iable \n",
    "    \"\"\"\n",
    "print 'Template:', t.substitute(values)"
   ]
  }
 ],
 "metadata": {
  "kernelspec": {
   "display_name": "Python [conda root]",
   "language": "python",
   "name": "conda-root-py"
  },
  "language_info": {
   "codemirror_mode": {
    "name": "ipython",
    "version": 2
   },
   "file_extension": ".py",
   "mimetype": "text/x-python",
   "name": "python",
   "nbconvert_exporter": "python",
   "pygments_lexer": "ipython2",
   "version": "2.7.12"
  }
 },
 "nbformat": 4,
 "nbformat_minor": 1
}
