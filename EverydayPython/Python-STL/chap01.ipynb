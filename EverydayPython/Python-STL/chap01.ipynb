{
 "cells": [
  {
   "cell_type": "markdown",
   "metadata": {},
   "source": [
    "## String module\n",
    "\n",
    "### 1. Functions"
   ]
  },
  {
   "cell_type": "code",
   "execution_count": 1,
   "metadata": {
    "collapsed": true
   },
   "outputs": [],
   "source": [
    "import string\n"
   ]
  },
  {
   "cell_type": "markdown",
   "metadata": {},
   "source": [
    "**Using capwords() is the same as calling split(), capitalizing the words in the resulting list, and then calling join() to combine the results **"
   ]
  },
  {
   "cell_type": "code",
   "execution_count": 2,
   "metadata": {
    "collapsed": false
   },
   "outputs": [
    {
     "name": "stdout",
     "output_type": "stream",
     "text": [
      "The School has been upgraded from college to University.\n",
      "The School Has Been Upgraded From College To University.\n"
     ]
    }
   ],
   "source": [
    "s = 'The School has been upgraded from college to University.'\n",
    "print s\n",
    "print string.capwords(s)"
   ]
  },
  {
   "cell_type": "code",
   "execution_count": 3,
   "metadata": {
    "collapsed": false
   },
   "outputs": [
    {
     "name": "stdout",
     "output_type": "stream",
     "text": [
      "The School Has Been Upgraded From College To University.\n"
     ]
    }
   ],
   "source": [
    "s = s.split()\n",
    "s = [word.capitalize() for word in s]\n",
    "print \" \".join(s)"
   ]
  },
  {
   "cell_type": "markdown",
   "metadata": {},
   "source": [
    "**maketrans( ) creates translation tables that can be used with the translate ( ) method to change one set of characters to another more efficiently than with repeated calls to replace ( )**"
   ]
  },
  {
   "cell_type": "code",
   "execution_count": 4,
   "metadata": {
    "collapsed": false
   },
   "outputs": [
    {
     "name": "stdout",
     "output_type": "stream",
     "text": [
      "The School has been upgraded from college to University.\n",
      "Th8 Schoo8 h4s 588n up694787 39om co88868 to Univ89sity.\n"
     ]
    }
   ],
   "source": [
    "leet = string.maketrans('abgerdlkfjl', '45689712358')\n",
    "s = 'The School has been upgraded from college to University.'\n",
    "\n",
    "print s\n",
    "print s.translate(leet)"
   ]
  },
  {
   "cell_type": "markdown",
   "metadata": {},
   "source": [
    "### 2. Templates"
   ]
  },
  {
   "cell_type": "code",
   "execution_count": 5,
   "metadata": {
    "collapsed": true
   },
   "outputs": [],
   "source": [
    "values = {'var':'foo'}\n"
   ]
  },
  {
   "cell_type": "code",
   "execution_count": 6,
   "metadata": {
    "collapsed": false
   },
   "outputs": [
    {
     "name": "stdout",
     "output_type": "stream",
     "text": [
      "Template: \n",
      "                    variable        :foo\n",
      "                    Escape          :$\n",
      "                    variable in text:fooiable \n",
      "                    \n"
     ]
    }
   ],
   "source": [
    "t = string.Template(\"\"\"\n",
    "                    variable        :$var\n",
    "                    Escape          :$$\n",
    "                    variable in text:${var}iable \n",
    "                    \"\"\")\n",
    "print 'Template:', t.substitute(values)"
   ]
  },
  {
   "cell_type": "code",
   "execution_count": 11,
   "metadata": {
    "collapsed": false
   },
   "outputs": [
    {
     "name": "stdout",
     "output_type": "stream",
     "text": [
      " Interpolation: \n",
      "        variable        :foo\n",
      "        Escape          :%\n",
      "        variable in text:fooiable \n",
      "    \n"
     ]
    }
   ],
   "source": [
    "s = \"\"\"\n",
    "        variable        :%(var)s\n",
    "        Escape          :%%\n",
    "        variable in text:%(var)siable \n",
    "    \"\"\"\n",
    "print 'Interpolation:', s % values"
   ]
  },
  {
   "cell_type": "markdown",
   "metadata": {},
   "source": [
    "## 3. textwrap-Formatting Text Paragraphs"
   ]
  },
  {
   "cell_type": "markdown",
   "metadata": {},
   "source": [
    "sample_text = '''The textwrap module can be used to format text for output in\n",
    "                 situations where pretty-printing is desired. It offers programmatic\n",
    "                 functionality similar to the paragraph wrapping or filling features found \n",
    "                 in many text editors'''"
   ]
  },
  {
   "cell_type": "code",
   "execution_count": 15,
   "metadata": {
    "collapsed": false
   },
   "outputs": [
    {
     "name": "stdout",
     "output_type": "stream",
     "text": [
      "No dedent:\n",
      "\n",
      "         The textwrap module can be used to format\n",
      "text for output in situations         where\n",
      "pretty-printing is desired.  It offers\n",
      "programmatic functionality similar         to the\n",
      "paragraph wrapping or filling features found in\n",
      "many text editors.\n"
     ]
    }
   ],
   "source": [
    "import textwrap\n",
    "sample_text = '''\n",
    "        The textwrap module can be used to format text for output in situations\n",
    "        where pretty-printing is desired.  It offers programmatic functionality similar\n",
    "        to the paragraph wrapping or filling features found in many text editors.\n",
    "        '''\n",
    "\n",
    "print 'No dedent:\\n'\n",
    "print textwrap.fill(sample_text, width=50)\n",
    "\n"
   ]
  },
  {
   "cell_type": "code",
   "execution_count": 16,
   "metadata": {
    "collapsed": false
   },
   "outputs": [
    {
     "name": "stdout",
     "output_type": "stream",
     "text": [
      "Dedented:\n",
      "\n",
      "The textwrap module can be used to format text for output in situations\n",
      "where pretty-printing is desired.  It offers programmatic functionality similar\n",
      "to the paragraph wrapping or filling features found in many text editors.\n",
      "\n"
     ]
    }
   ],
   "source": [
    "dedented_text = textwrap.dedent(sample_text)\n",
    "print 'Dedented:'\n",
    "print dedented_text"
   ]
  },
  {
   "cell_type": "markdown",
   "metadata": {},
   "source": [
    "## 4. Regular Expression"
   ]
  },
  {
   "cell_type": "code",
   "execution_count": 17,
   "metadata": {
    "collapsed": true
   },
   "outputs": [],
   "source": [
    "import re"
   ]
  },
  {
   "cell_type": "code",
   "execution_count": 18,
   "metadata": {
    "collapsed": true
   },
   "outputs": [],
   "source": [
    "pattern = 'this'\n",
    "text = 'Does this text match the pattern?'\n",
    "match = re.search(pattern, text)"
   ]
  },
  {
   "cell_type": "code",
   "execution_count": 20,
   "metadata": {
    "collapsed": false
   },
   "outputs": [],
   "source": [
    "s = match.start()\n",
    "e = match.end()"
   ]
  },
  {
   "cell_type": "code",
   "execution_count": null,
   "metadata": {
    "collapsed": true
   },
   "outputs": [],
   "source": []
  }
 ],
 "metadata": {
  "anaconda-cloud": {},
  "kernelspec": {
   "display_name": "Python [conda root]",
   "language": "python",
   "name": "conda-root-py"
  },
  "language_info": {
   "codemirror_mode": {
    "name": "ipython",
    "version": 2
   },
   "file_extension": ".py",
   "mimetype": "text/x-python",
   "name": "python",
   "nbconvert_exporter": "python",
   "pygments_lexer": "ipython2",
   "version": "2.7.12"
  }
 },
 "nbformat": 4,
 "nbformat_minor": 1
}
