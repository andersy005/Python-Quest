{
 "cells": [
  {
   "cell_type": "markdown",
   "metadata": {},
   "source": [
    "![](https://encrypted-tbn1.gstatic.com/images?q=tbn:ANd9GcS2e1jabS-oToIuAzuf9ivtu_j0AdWrFnOP8RY1WeTnNJMooYYq)\n",
    "\n",
    "<img src=\"http://www.scipy-lectures.org/_images/numpy_broadcasting.png\" height=\"300\" width=\"500\">\n"
   ]
  },
  {
   "cell_type": "markdown",
   "metadata": {},
   "source": [
    "<h1 align=\"center\">Beginning with NumPy Fundamentals</h1>\n"
   ]
  },
  {
   "cell_type": "markdown",
   "metadata": {},
   "source": [
    "## Table of Contents\n",
    "- [I. Import packages](#Import-packages)\n",
    "- [II. NumPy Ndarray object](#NumPy-Ndarray-object)\n",
    "   - [I. Creating a multidimensional array](#Creating-a-multidimensional-array)\n",
    "   - [II. Minimum dimensions](#Minimum-dimensions)\n",
    "   - [III. dtype parameter](#dtype-parameter)\n",
    "- [III. NumPy Data Types](#NumPy-Data-Types)\n",
    "   - [I. Data Type Objects(dtype)](#Data-Type-Objects)\n",
    "   - [II. Character Codes](#Character-Codes)\n",
    "   - [III. Structured Data Type](#Structured-Data-Type)\n",
    "   \n",
    "- [IV. Array Attributes](#Array-Attributes)\n",
    "\n"
   ]
  },
  {
   "cell_type": "markdown",
   "metadata": {},
   "source": [
    "## Import packages"
   ]
  },
  {
   "cell_type": "code",
   "execution_count": 1,
   "metadata": {
    "collapsed": true
   },
   "outputs": [],
   "source": [
    "import sys\n",
    "from datetime import datetime\n",
    "import time\n",
    "import matplotlib.pyplot as plt\n",
    "%matplotlib inline\n",
    "import numpy as np"
   ]
  },
  {
   "cell_type": "markdown",
   "metadata": {},
   "source": [
    "## NumPy Ndarray object\n",
    "[back to top](#Table-of-Contents)\n",
    "\n",
    "\n",
    "NumPy has a multidimensional array object called ```ndarray```. It consists of two parts:\n",
    "- The actual data\n",
    "- Some metadata describing the data\n",
    "\n",
    "The majority of array operations leave the raw data untouched. The only aspect that changes is the metadata.\n",
    "\n",
    "It describes the collection of items of the same type. Items in the collection can be accessed using a zero-based index.\n",
    "\n",
    "Every item in an ```ndarray``` takes the same size of block in the memory. Each element is an object of data-type object called **dytpe**.\n",
    "\n",
    "Any item extracted from ```ndarray``` object(by slicing) is represented by a Python object of one of array scalar types.\n",
    "\n",
    "*Relationship between ```ndarray```, data type object(dtype) and array scalar type*\n",
    "\n",
    "![](https://www.tutorialspoint.com/numpy/images/ndarray.jpg)\n",
    "\n",
    "The ```ndarray``` object can have more than one dimension.\n",
    "\n",
    "An instance of ndarray class can be constructed by different array creation routines described later in the tutorial. The basic ndarray is created using an array function in NumPy as follows\n",
    "\n",
    "```python\n",
    "numpy.array\n",
    "```\n",
    "\n",
    "It creates an ndarray from any object exposing array interface, or from any method that returns an array.\n",
    "\n",
    "```python \n",
    "numpy.array(object, dtype = None, copy = True, order = None, subok = False, ndmin = 0)\n",
    "```\n",
    "\n",
    "| **Parameter** | **Description**                                                                                  |\n",
    "|---------------|--------------------------------------------------------------------------------------------------|\n",
    "| **object**    |  Any object exposing the array interface method returns an array,  or any (nested) sequence.     |\n",
    "| **dtype**     |  Desired data type of array, optional                                                            |\n",
    "| **copy**      | Optional. By default (true), the object is copied                                                |\n",
    "| **order**     | C (row major) or F (column major) or A (any) (default)                                           |\n",
    "| **subok**     | By default, returned array forced to be a base class array.  If true, sub-classes passed through |\n",
    "| **ndimin**    | Specifies minimum dimensions of resultant array                                                  |"
   ]
  },
  {
   "cell_type": "code",
   "execution_count": 2,
   "metadata": {},
   "outputs": [
    {
     "data": {
      "text/plain": [
       "array([0, 1, 2, 3, 4])"
      ]
     },
     "execution_count": 2,
     "metadata": {},
     "output_type": "execute_result"
    }
   ],
   "source": [
    "a = np.arange(5)\n",
    "a"
   ]
  },
  {
   "cell_type": "code",
   "execution_count": 3,
   "metadata": {},
   "outputs": [
    {
     "data": {
      "text/plain": [
       "dtype('int32')"
      ]
     },
     "execution_count": 3,
     "metadata": {},
     "output_type": "execute_result"
    }
   ],
   "source": [
    "a.dtype"
   ]
  },
  {
   "cell_type": "code",
   "execution_count": 4,
   "metadata": {},
   "outputs": [
    {
     "data": {
      "text/plain": [
       "(5,)"
      ]
     },
     "execution_count": 4,
     "metadata": {},
     "output_type": "execute_result"
    }
   ],
   "source": [
    "a.shape"
   ]
  },
  {
   "cell_type": "markdown",
   "metadata": {},
   "source": [
    "### Creating a multidimensional array"
   ]
  },
  {
   "cell_type": "code",
   "execution_count": 5,
   "metadata": {},
   "outputs": [
    {
     "data": {
      "text/plain": [
       "array([[0, 1],\n",
       "       [0, 1]])"
      ]
     },
     "execution_count": 5,
     "metadata": {},
     "output_type": "execute_result"
    }
   ],
   "source": [
    "m = np.array([np.arange(2), np.arange(2)])\n",
    "m"
   ]
  },
  {
   "cell_type": "code",
   "execution_count": 6,
   "metadata": {},
   "outputs": [
    {
     "data": {
      "text/plain": [
       "(2, 2)"
      ]
     },
     "execution_count": 6,
     "metadata": {},
     "output_type": "execute_result"
    }
   ],
   "source": [
    "m.shape"
   ]
  },
  {
   "cell_type": "code",
   "execution_count": 7,
   "metadata": {},
   "outputs": [
    {
     "data": {
      "text/plain": [
       "array([[0, 1, 2],\n",
       "       [0, 1, 2],\n",
       "       [0, 1, 2]])"
      ]
     },
     "execution_count": 7,
     "metadata": {},
     "output_type": "execute_result"
    }
   ],
   "source": [
    "n = np.array([np.arange(3), np.arange(3), np.arange(3)])\n",
    "n"
   ]
  },
  {
   "cell_type": "code",
   "execution_count": 8,
   "metadata": {},
   "outputs": [
    {
     "data": {
      "text/plain": [
       "(3, 3)"
      ]
     },
     "execution_count": 8,
     "metadata": {},
     "output_type": "execute_result"
    }
   ],
   "source": [
    "n.shape"
   ]
  },
  {
   "cell_type": "markdown",
   "metadata": {},
   "source": [
    "### Minimum dimensions"
   ]
  },
  {
   "cell_type": "code",
   "execution_count": 9,
   "metadata": {},
   "outputs": [
    {
     "data": {
      "text/plain": [
       "array([[0, 1, 2, 3, 4]])"
      ]
     },
     "execution_count": 9,
     "metadata": {},
     "output_type": "execute_result"
    }
   ],
   "source": [
    "a = np.array(np.arange(5), ndmin=2)\n",
    "a"
   ]
  },
  {
   "cell_type": "markdown",
   "metadata": {},
   "source": [
    "### dtype parameter"
   ]
  },
  {
   "cell_type": "code",
   "execution_count": 10,
   "metadata": {},
   "outputs": [
    {
     "data": {
      "text/plain": [
       "array([ 0.+0.j,  1.+0.j,  2.+0.j,  3.+0.j,  4.+0.j])"
      ]
     },
     "execution_count": 10,
     "metadata": {},
     "output_type": "execute_result"
    }
   ],
   "source": [
    "a = np.array(np.arange(5), dtype=complex)\n",
    "a"
   ]
  },
  {
   "cell_type": "markdown",
   "metadata": {},
   "source": [
    "The **```ndarray```** object consists of contiguous one-dimensional segment of computer memory, combined with an indexing scheme that maps each item to a location in the memory block. The memory block holds the elements in a row-major order (C style) or a column-major order (FORTRAN or MatLab style).\n",
    "\n"
   ]
  },
  {
   "cell_type": "markdown",
   "metadata": {},
   "source": [
    "## NumPy Data Types\n",
    "[back to top](#Table-of-Contents)\n",
    "\n",
    "NumPy supports a much greater variety of numerical types than Python does. The following table gives an overview of NumPy numerical types.\n",
    "\n",
    "| **Data Types**                 | **Description**                                                                 |\n",
    "|--------------------------------|---------------------------------------------------------------------------------|\n",
    "| **bool_**                      |  Boolean(True or False) stored as a bit                                         |\n",
    "| **int_**                       |  Default Integer type(same as C long; normally either int64 or int32)           |\n",
    "| **intc**                       | Identical to C int(normally int32 or int64)                                     |\n",
    "| **intp**                       | Integer used for indexing (same as C ssize_t; normally either int32 or int64)   |\n",
    "| **int8**                       | Byte (-128 to 127)                                                              |\n",
    "| **int16**                      | Integer (-32768 to 32767)                                                       |\n",
    "| **int32**                      | Integer (-$2 ^{31}$ to $2^{31}$ -1)                                                |\n",
    "| **int64**                      | Integer (-$2^{63}$ to $2^{63}$ -1)                                                |\n",
    "| **uint8**                      | Unsigned integer (0 to 255)                                                     |\n",
    "| **uint16**                     | Unsignedinteger (0 to 65535)                                                    |\n",
    "| **uint32**                     | Unsigned integer (0 to $2 ^{32}$ - 1)                                             |\n",
    "| **uint64**                     | Unsigned integer (0 to $2 ^{64}$ - 1)                                             |\n",
    "| **float16**                    | Half precision float: sign bit, 5 bits exponent, 10 bits mantissa               |\n",
    "| **float32**                    | Single precision float: sign bit, 8 bits exponent, 23 bits mantissa             |\n",
    "| **float64** or **float**       | Double precision float: sign bit, 11 bits exponent, 52 bits mantissa            |\n",
    "| **complex64**                  | Complex number, represented by two 32-bit floats (real andimaginary components) |\n",
    "| **complex128** or  **complex** | Complex number, represented by two 64-bit floats (real andimaginary components) |\n",
    "\n",
    "\n",
    "NumPy numerical types are instances of dtype (data-type) objects , each having unique characteristics. The dtypes are available as ```np.bool_```, ```np.float32```.\n",
    "\n",
    "### Data Type Objects\n",
    "[back to top](#Table-of-Contents)\n",
    "\n",
    "**Data Type objects** are instances of the ```numpy.dtype``` class. The data type object can tell you the size of the data in bytes.\n",
    "\n",
    "A data type object describes interpretation of fixed block of memory corresponding to an array, depending on the following aspects:\n",
    "- Type of data(int, float,or Python object)\n",
    "- Size of data\n",
    "- Byte order(little-endian or big-endian)\n",
    "- In case of Structured type, the names of fiels, data type of each field and part of the memory block taken by each field.\n",
    "- If data type is subarray, its shape and data type.\n",
    "\n",
    "The byte order is decided by prefixing '<' ot '>' to data type. \n",
    "\n",
    "- '<' means that encoding is little-endian(least significant is stored in smallest address).\n",
    "- '>' means that encoding is big-endian(most significanat byte is stored in smallest address).\n",
    "\n",
    "A dtype object is constructed using the following syntax:\n",
    "```python\n",
    "numpy.dtype(object, align, copy)\n",
    "```\n",
    "\n",
    "The parameters are:\n",
    "- **object**- To be converted to data type object\n",
    "- **Align**- If True, adds padding to the field to make it similar to C-struct.\n",
    "- **Copy**- Makes a new copy of dtype object. If False, the result is reference to builtin data type object\n",
    "\n",
    "The size in bytes is given by the ```object.dtype.itemsize```\n",
    "\n",
    "#### Character Codes\n",
    "**Character Codes** are included for backward compatibility with Numeric. Their use is not recommended. Each Built-in data type has a character code that uniquely identifies it.\n",
    "\n",
    "| **Type**               | **Character Code** |\n",
    "|------------------------|--------------------|\n",
    "| Integer                | i                  |\n",
    "| Unsigned integer       | u                  |\n",
    "| Single Precision float | f                  |\n",
    "| Double precision float | d                  |\n",
    "| Boolean                | b                  |\n",
    "| Complex                | D                  |\n",
    "| String                 | S                  |\n",
    "| Unicode                | U                  |\n",
    "| Void                   | V                  |"
   ]
  },
  {
   "cell_type": "code",
   "execution_count": 11,
   "metadata": {},
   "outputs": [
    {
     "data": {
      "text/plain": [
       "dtype('int32')"
      ]
     },
     "execution_count": 11,
     "metadata": {},
     "output_type": "execute_result"
    }
   ],
   "source": [
    "# 1. using array-scalar type\n",
    "dt = np.dtype(np.int32)\n",
    "dt"
   ]
  },
  {
   "cell_type": "code",
   "execution_count": 12,
   "metadata": {},
   "outputs": [
    {
     "data": {
      "text/plain": [
       "dtype('int32')"
      ]
     },
     "execution_count": 12,
     "metadata": {},
     "output_type": "execute_result"
    }
   ],
   "source": [
    "# 2. #int8, int16, int32, int64 can be replaced by \n",
    "# equivalent string 'i1', 'i2','i4', etc.\n",
    "dt = np.dtype('i4')\n",
    "dt"
   ]
  },
  {
   "cell_type": "code",
   "execution_count": 13,
   "metadata": {},
   "outputs": [
    {
     "data": {
      "text/plain": [
       "dtype('>i4')"
      ]
     },
     "execution_count": 13,
     "metadata": {},
     "output_type": "execute_result"
    }
   ],
   "source": [
    "# 3. Using endian notation\n",
    "dt = np.dtype('>i4')\n",
    "dt"
   ]
  },
  {
   "cell_type": "markdown",
   "metadata": {},
   "source": [
    "#### Structured Data Type\n",
    "[back to top](#Table-of-Contents)\n",
    "\n",
    "Here, the field name and the corresponding scalar data type is to be declared."
   ]
  },
  {
   "cell_type": "code",
   "execution_count": 14,
   "metadata": {},
   "outputs": [
    {
     "data": {
      "text/plain": [
       "dtype([('age', 'i1')])"
      ]
     },
     "execution_count": 14,
     "metadata": {},
     "output_type": "execute_result"
    }
   ],
   "source": [
    "# create structured data type\n",
    "dt = np.dtype([('age', np.int8)])\n",
    "dt"
   ]
  },
  {
   "cell_type": "code",
   "execution_count": 15,
   "metadata": {},
   "outputs": [
    {
     "name": "stdout",
     "output_type": "stream",
     "text": [
      "[(10,) (20,) (30,)]\n"
     ]
    }
   ],
   "source": [
    "# apply it to ndarray object\n",
    "a = np.array([(10,), (20,), (30,)], dtype= dt)\n",
    "print(a)"
   ]
  },
  {
   "cell_type": "code",
   "execution_count": 16,
   "metadata": {},
   "outputs": [
    {
     "name": "stdout",
     "output_type": "stream",
     "text": [
      "[10 20 30]\n"
     ]
    }
   ],
   "source": [
    "# file name can be used to access content of age column\n",
    "print(a['age'])"
   ]
  },
  {
   "cell_type": "markdown",
   "metadata": {},
   "source": [
    "The following examples define a structured data type called **team** with a string field 'name', an **integer field** 'ranking' and a **float field** 'points'. This dtype is applied to ndarray object."
   ]
  },
  {
   "cell_type": "code",
   "execution_count": 17,
   "metadata": {},
   "outputs": [
    {
     "data": {
      "text/plain": [
       "dtype([('name', 'S20'), ('ranking', 'i1'), ('points', '<f4')])"
      ]
     },
     "execution_count": 17,
     "metadata": {},
     "output_type": "execute_result"
    }
   ],
   "source": [
    "team = np.dtype([('name', 'S20'), ('ranking', 'i1'), ('points', 'f4')])\n",
    "team"
   ]
  },
  {
   "cell_type": "code",
   "execution_count": 18,
   "metadata": {},
   "outputs": [
    {
     "name": "stdout",
     "output_type": "stream",
     "text": [
      "[(b'Real Madrid', 2,  85.) (b'Bayern Munich', 1,  90.)]\n"
     ]
    }
   ],
   "source": [
    "a = np.array([('Real Madrid', 2, 85), ('Bayern Munich', 1, 90)], dtype=team)\n",
    "print(a)"
   ]
  },
  {
   "cell_type": "markdown",
   "metadata": {},
   "source": [
    "## Array Attributes\n",
    "[back to top](#Table-of-Contents)\n",
    "\n",
    "### ```ndarray.shape```\n",
    "This array attribute returns a tuple consisting of array dimensions. It can also be used to resize the array."
   ]
  },
  {
   "cell_type": "code",
   "execution_count": 19,
   "metadata": {},
   "outputs": [
    {
     "data": {
      "text/plain": [
       "(2, 3)"
      ]
     },
     "execution_count": 19,
     "metadata": {},
     "output_type": "execute_result"
    }
   ],
   "source": [
    "a = np.array([np.arange(3), np.arange(3)])\n",
    "a.shape"
   ]
  },
  {
   "cell_type": "code",
   "execution_count": 20,
   "metadata": {},
   "outputs": [
    {
     "data": {
      "text/plain": [
       "array([[0, 1],\n",
       "       [2, 0],\n",
       "       [1, 2]])"
      ]
     },
     "execution_count": 20,
     "metadata": {},
     "output_type": "execute_result"
    }
   ],
   "source": [
    "# Resize the ndarray\n",
    "a.shape=(3,2)\n",
    "a"
   ]
  },
  {
   "cell_type": "code",
   "execution_count": 21,
   "metadata": {},
   "outputs": [
    {
     "name": "stdout",
     "output_type": "stream",
     "text": [
      "[[0 1]\n",
      " [2 0]\n",
      " [1 2]]\n",
      "\n",
      "\n",
      " [[0]\n",
      " [1]\n",
      " [2]\n",
      " [0]\n",
      " [1]\n",
      " [2]]\n"
     ]
    }
   ],
   "source": [
    "# Using reshape function\n",
    "print(a)\n",
    "b = a.reshape(6, 1)\n",
    "print('\\n\\n',b)"
   ]
  },
  {
   "cell_type": "markdown",
   "metadata": {},
   "source": [
    "### ```ndarray.ndim```\n",
    "This array attribute returns the number of array dimensions."
   ]
  },
  {
   "cell_type": "code",
   "execution_count": 22,
   "metadata": {},
   "outputs": [
    {
     "data": {
      "text/plain": [
       "array([ 0,  1,  2,  3,  4,  5,  6,  7,  8,  9, 10, 11, 12, 13, 14, 15, 16,\n",
       "       17, 18, 19, 20, 21, 22, 23])"
      ]
     },
     "execution_count": 22,
     "metadata": {},
     "output_type": "execute_result"
    }
   ],
   "source": [
    "a = np.arange(24)\n",
    "a"
   ]
  },
  {
   "cell_type": "code",
   "execution_count": 23,
   "metadata": {},
   "outputs": [
    {
     "data": {
      "text/plain": [
       "1"
      ]
     },
     "execution_count": 23,
     "metadata": {},
     "output_type": "execute_result"
    }
   ],
   "source": [
    "a.ndim"
   ]
  },
  {
   "cell_type": "code",
   "execution_count": 24,
   "metadata": {},
   "outputs": [
    {
     "name": "stdout",
     "output_type": "stream",
     "text": [
      "b is having three dimensions\n",
      "\n",
      " [[[ 0  1  2]\n",
      "  [ 3  4  5]\n",
      "  [ 6  7  8]\n",
      "  [ 9 10 11]]\n",
      "\n",
      " [[12 13 14]\n",
      "  [15 16 17]\n",
      "  [18 19 20]\n",
      "  [21 22 23]]]\n"
     ]
    }
   ],
   "source": [
    "# Reshape it\n",
    "b = a.reshape(2,4,3)\n",
    "print('b is having three dimensions\\n\\n', b)"
   ]
  },
  {
   "cell_type": "code",
   "execution_count": 25,
   "metadata": {},
   "outputs": [
    {
     "name": "stdout",
     "output_type": "stream",
     "text": [
      "dimension:  3\n",
      "shape:  (2, 4, 3)\n"
     ]
    }
   ],
   "source": [
    "print('dimension: ',b.ndim)\n",
    "print('shape: ', b.shape)"
   ]
  },
  {
   "cell_type": "markdown",
   "metadata": {},
   "source": [
    "### ```ndarray.itemsize```\n",
    "This array attribute returns the length of each element of array in bytes."
   ]
  },
  {
   "cell_type": "code",
   "execution_count": 26,
   "metadata": {},
   "outputs": [
    {
     "data": {
      "text/plain": [
       "array([1, 2, 3, 4, 5], dtype=int8)"
      ]
     },
     "execution_count": 26,
     "metadata": {},
     "output_type": "execute_result"
    }
   ],
   "source": [
    "x = np.array(np.arange(1,6), dtype=np.int8)\n",
    "x"
   ]
  },
  {
   "cell_type": "code",
   "execution_count": 27,
   "metadata": {},
   "outputs": [
    {
     "data": {
      "text/plain": [
       "1"
      ]
     },
     "execution_count": 27,
     "metadata": {},
     "output_type": "execute_result"
    }
   ],
   "source": [
    "x.itemsize"
   ]
  },
  {
   "cell_type": "code",
   "execution_count": 28,
   "metadata": {},
   "outputs": [
    {
     "data": {
      "text/plain": [
       "4"
      ]
     },
     "execution_count": 28,
     "metadata": {},
     "output_type": "execute_result"
    }
   ],
   "source": [
    "x = np.array(np.arange(1, 6), dtype=np.float32)\n",
    "x.itemsize"
   ]
  },
  {
   "cell_type": "markdown",
   "metadata": {},
   "source": [
    "### ```ndarray.flags```\n"
   ]
  },
  {
   "cell_type": "code",
   "execution_count": 29,
   "metadata": {},
   "outputs": [
    {
     "data": {
      "text/plain": [
       "  C_CONTIGUOUS : True\n",
       "  F_CONTIGUOUS : True\n",
       "  OWNDATA : True\n",
       "  WRITEABLE : True\n",
       "  ALIGNED : True\n",
       "  UPDATEIFCOPY : False"
      ]
     },
     "execution_count": 29,
     "metadata": {},
     "output_type": "execute_result"
    }
   ],
   "source": [
    "x.flags"
   ]
  }
 ],
 "metadata": {
  "kernelspec": {
   "display_name": "Python [conda env:py3]",
   "language": "python",
   "name": "conda-env-py3-py"
  },
  "language_info": {
   "codemirror_mode": {
    "name": "ipython",
    "version": 3
   },
   "file_extension": ".py",
   "mimetype": "text/x-python",
   "name": "python",
   "nbconvert_exporter": "python",
   "pygments_lexer": "ipython3",
   "version": "3.5.3"
  }
 },
 "nbformat": 4,
 "nbformat_minor": 2
}
