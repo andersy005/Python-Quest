{
 "cells": [
  {
   "cell_type": "code",
   "execution_count": 1,
   "metadata": {
    "collapsed": true
   },
   "outputs": [],
   "source": [
    "import pdir\n",
    "import collections"
   ]
  },
  {
   "cell_type": "code",
   "execution_count": 2,
   "metadata": {
    "collapsed": false
   },
   "outputs": [
    {
     "data": {
      "text/plain": [
       "\u001b[0;33mmodule attribute:\u001b[0m\n",
       "    \u001b[0;36m__cached__\u001b[0m\u001b[1;30m, \u001b[0m\u001b[0;36m__file__\u001b[0m\u001b[1;30m, \u001b[0m\u001b[0;36m__loader__\u001b[0m\u001b[1;30m, \u001b[0m\u001b[0;36m__name__\u001b[0m\u001b[1;30m, \u001b[0m\u001b[0;36m__package__\u001b[0m\u001b[1;30m, \u001b[0m\u001b[0;36m__path__\u001b[0m\u001b[1;30m, \u001b[0m\u001b[0;36m__spec__\u001b[0m\n",
       "\u001b[0;33mother:\u001b[0m\n",
       "    \u001b[0;36m__all__\u001b[0m\u001b[1;30m, \u001b[0m\u001b[0;36m__builtins__\u001b[0m\u001b[1;30m, \u001b[0m\u001b[0;36m_class_template\u001b[0m\u001b[1;30m, \u001b[0m\u001b[0;36m_collections_abc\u001b[0m\u001b[1;30m, \u001b[0m\u001b[0;36m_field_template\u001b[0m\u001b[1;30m, \u001b[0m\u001b[0;36m_heapq\u001b[0m\u001b[1;30m, \u001b[0m\u001b[0;36m_repr_template\u001b[0m\u001b[1;30m, \u001b[0m\u001b[0;36m_sys\u001b[0m\u001b[1;30m, \u001b[0m\u001b[0;36mabc\u001b[0m\n",
       "\u001b[0;33mspecial attribute:\u001b[0m\n",
       "    \u001b[0;36m__doc__\u001b[0m\n",
       "\u001b[0;33mclass:\u001b[0m\n",
       "    \u001b[0;36mAsyncIterable:\u001b[0m \u001b[1;30m\u001b[0m\n",
       "    \u001b[0;36mAsyncIterator:\u001b[0m \u001b[1;30m\u001b[0m\n",
       "    \u001b[0;36mAwaitable:\u001b[0m \u001b[1;30m\u001b[0m\n",
       "    \u001b[0;36mByteString:\u001b[0m \u001b[1;30mThis unifies bytes and bytearray.\u001b[0m\n",
       "    \u001b[0;36mCallable:\u001b[0m \u001b[1;30m\u001b[0m\n",
       "    \u001b[0;36mChainMap:\u001b[0m \u001b[1;30mA ChainMap groups multiple dicts (or other mappings) together\u001b[0m\n",
       "    \u001b[0;36mContainer:\u001b[0m \u001b[1;30m\u001b[0m\n",
       "    \u001b[0;36mCoroutine:\u001b[0m \u001b[1;30m\u001b[0m\n",
       "    \u001b[0;36mCounter:\u001b[0m \u001b[1;30mDict subclass for counting hashable items.  Sometimes called a bag\u001b[0m\n",
       "    \u001b[0;36mGenerator:\u001b[0m \u001b[1;30m\u001b[0m\n",
       "    \u001b[0;36mHashable:\u001b[0m \u001b[1;30m\u001b[0m\n",
       "    \u001b[0;36mItemsView:\u001b[0m \u001b[1;30mA set is a finite, iterable container.\u001b[0m\n",
       "    \u001b[0;36mIterable:\u001b[0m \u001b[1;30m\u001b[0m\n",
       "    \u001b[0;36mIterator:\u001b[0m \u001b[1;30m\u001b[0m\n",
       "    \u001b[0;36mKeysView:\u001b[0m \u001b[1;30mA set is a finite, iterable container.\u001b[0m\n",
       "    \u001b[0;36mMapping:\u001b[0m \u001b[1;30m\u001b[0m\n",
       "    \u001b[0;36mMappingView:\u001b[0m \u001b[1;30m\u001b[0m\n",
       "    \u001b[0;36mMutableMapping:\u001b[0m \u001b[1;30m\u001b[0m\n",
       "    \u001b[0;36mMutableSequence:\u001b[0m \u001b[1;30mAll the operations on a read-only sequence.\u001b[0m\n",
       "    \u001b[0;36mMutableSet:\u001b[0m \u001b[1;30mA mutable set is a finite, iterable container.\u001b[0m\n",
       "    \u001b[0;36mOrderedDict:\u001b[0m \u001b[1;30mDictionary that remembers insertion order\u001b[0m\n",
       "    \u001b[0;36mSequence:\u001b[0m \u001b[1;30mAll the operations on a read-only sequence.\u001b[0m\n",
       "    \u001b[0;36mSet:\u001b[0m \u001b[1;30mA set is a finite, iterable container.\u001b[0m\n",
       "    \u001b[0;36mSized:\u001b[0m \u001b[1;30m\u001b[0m\n",
       "    \u001b[0;36mUserDict:\u001b[0m \u001b[1;30m\u001b[0m\n",
       "    \u001b[0;36mUserList:\u001b[0m \u001b[1;30mA more or less complete user-defined wrapper around list objects.\u001b[0m\n",
       "    \u001b[0;36mUserString:\u001b[0m \u001b[1;30mAll the operations on a read-only sequence.\u001b[0m\n",
       "    \u001b[0;36mValuesView:\u001b[0m \u001b[1;30m\u001b[0m\n",
       "    \u001b[0;36m_Link:\u001b[0m \u001b[1;30m\u001b[0m\n",
       "    \u001b[0;36m_OrderedDictItemsView:\u001b[0m \u001b[1;30mA set is a finite, iterable container.\u001b[0m\n",
       "    \u001b[0;36m_OrderedDictKeysView:\u001b[0m \u001b[1;30mA set is a finite, iterable container.\u001b[0m\n",
       "    \u001b[0;36m_OrderedDictValuesView:\u001b[0m \u001b[1;30m\u001b[0m\n",
       "    \u001b[0;36m_chain:\u001b[0m \u001b[1;30mchain(*iterables) --> chain object\u001b[0m\n",
       "    \u001b[0;36m_itemgetter:\u001b[0m \u001b[1;30mitemgetter(item, ...) --> itemgetter object\u001b[0m\n",
       "    \u001b[0;36m_repeat:\u001b[0m \u001b[1;30mrepeat(object [,times]) -> create an iterator which returns the object\u001b[0m\n",
       "    \u001b[0;36m_starmap:\u001b[0m \u001b[1;30mstarmap(function, sequence) --> starmap object\u001b[0m\n",
       "    \u001b[0;36mdefaultdict:\u001b[0m \u001b[1;30mdefaultdict(default_factory[, ...]) --> dict with default factory\u001b[0m\n",
       "    \u001b[0;36mdeque:\u001b[0m \u001b[1;30mdeque([iterable[, maxlen]]) --> deque object\u001b[0m\n",
       "\u001b[0;33mfunction:\u001b[0m\n",
       "    \u001b[0;36m_count_elements:\u001b[0m \u001b[1;30m_count_elements(mapping, iterable) -> None\u001b[0m\n",
       "    \u001b[0;36m_eq:\u001b[0m \u001b[1;30meq(a, b) -- Same as a==b.\u001b[0m\n",
       "    \u001b[0;36m_iskeyword:\u001b[0m \u001b[1;30mx.__contains__(y) <==> y in x.\u001b[0m\n",
       "    \u001b[0;36m_proxy:\u001b[0m \u001b[1;30mproxy(object[, callback]) -- create a proxy object that weakly\u001b[0m\n",
       "    \u001b[0;36m_recursive_repr:\u001b[0m \u001b[1;30mDecorator to make a repr function return fillvalue for a recursive call\u001b[0m\n",
       "    \u001b[0;36mnamedtuple:\u001b[0m \u001b[1;30mReturns a new subclass of tuple with named fields.\u001b[0m"
      ]
     },
     "execution_count": 2,
     "metadata": {},
     "output_type": "execute_result"
    }
   ],
   "source": [
    "pdir(collections)"
   ]
  },
  {
   "cell_type": "markdown",
   "metadata": {},
   "source": [
    "# 1. Counter\n",
    "**```Counter```** is a container that keeps track of how many times equivalent values are added.\n",
    "\n",
    "## 1.1 Initialization\n",
    "It can be initialized in three forms:\n"
   ]
  },
  {
   "cell_type": "code",
   "execution_count": 3,
   "metadata": {
    "collapsed": false
   },
   "outputs": [
    {
     "name": "stdout",
     "output_type": "stream",
     "text": [
      "Counter({'a': 2, 'c': 2, 'b': 1, 'e': 1, 'd': 1})\n"
     ]
    }
   ],
   "source": [
    "print(collections.Counter(['a', 'b', 'c', 'd', 'a', 'c', 'e']))"
   ]
  },
  {
   "cell_type": "code",
   "execution_count": 4,
   "metadata": {
    "collapsed": false
   },
   "outputs": [
    {
     "name": "stdout",
     "output_type": "stream",
     "text": [
      "Counter({'a': 2, 'c': 2, 'b': 1})\n"
     ]
    }
   ],
   "source": [
    "print(collections.Counter({'a':2, 'b':1, 'c':2}))"
   ]
  },
  {
   "cell_type": "code",
   "execution_count": 5,
   "metadata": {
    "collapsed": false
   },
   "outputs": [
    {
     "name": "stdout",
     "output_type": "stream",
     "text": [
      "Counter({'b': 3, 'a': 2, 'c': 1})\n"
     ]
    }
   ],
   "source": [
    "print(collections.Counter(a=2, b=3, c=1))"
   ]
  },
  {
   "cell_type": "code",
   "execution_count": 8,
   "metadata": {
    "collapsed": false
   },
   "outputs": [
    {
     "name": "stdout",
     "output_type": "stream",
     "text": [
      "Initial:  Counter()\n",
      "Sequence: Counter({'a': 3, 'b': 2, 'd': 1, 'c': 1})\n"
     ]
    }
   ],
   "source": [
    "# Empty counter\n",
    "c = collections.Counter()\n",
    "print('Initial: ', c)\n",
    "\n",
    "# update the counter\n",
    "c.update('abcdaab')\n",
    "print('Sequence:', c)"
   ]
  }
 ],
 "metadata": {
  "anaconda-cloud": {},
  "kernelspec": {
   "display_name": "Python [conda env:py3]",
   "language": "python",
   "name": "conda-env-py3-py"
  },
  "language_info": {
   "codemirror_mode": {
    "name": "ipython",
    "version": 3
   },
   "file_extension": ".py",
   "mimetype": "text/x-python",
   "name": "python",
   "nbconvert_exporter": "python",
   "pygments_lexer": "ipython3",
   "version": "3.5.2"
  }
 },
 "nbformat": 4,
 "nbformat_minor": 1
}
